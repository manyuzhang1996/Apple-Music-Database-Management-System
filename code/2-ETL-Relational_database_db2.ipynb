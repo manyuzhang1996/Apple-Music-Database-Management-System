{
 "cells": [
  {
   "cell_type": "markdown",
   "id": "1b3e93f0-bc7a-4e8e-a495-5016ae31aada",
   "metadata": {},
   "source": [
    "# Data 225 Final Project - ETL for Relational Database (db2)"
   ]
  },
  {
   "cell_type": "raw",
   "id": "f62862a5-d47d-4086-a6e5-e39990890d26",
   "metadata": {},
   "source": [
    "Team: DayDayUp\n",
    "Goal: Extral the origin data from daydayup_db, transform and load into relational database daydayup_db2."
   ]
  },
  {
   "cell_type": "markdown",
   "id": "b9e3a7e6-66f7-4fd6-97ec-b15c2c74a8e6",
   "metadata": {},
   "source": [
    "# 1 Table Customer"
   ]
  },
  {
   "cell_type": "code",
   "execution_count": 1,
   "id": "5a4043b8-1390-4cc1-afb1-e70413a253bf",
   "metadata": {},
   "outputs": [],
   "source": [
    "from mysql.connector import MySQLConnection, Error\n",
    "from mydbutils import make_connection, do_query_return_all\n",
    "from pandas.io import sql\n",
    "import pandas as pd\n",
    "import csv\n",
    "import random\n",
    "random.seed(1)\n",
    "import numpy as np\n",
    "\n",
    "import matplotlib.pyplot as plt\n",
    "import seaborn as sns\n",
    "%matplotlib inline\n",
    "%config InlineBackend.figure_format='retina'\n",
    "\n",
    "\n",
    "import warnings\n",
    "warnings.filterwarnings('ignore')"
   ]
  },
  {
   "cell_type": "code",
   "execution_count": 2,
   "id": "bcf47b5a-b1dc-442d-8573-1b840ba61e11",
   "metadata": {},
   "outputs": [
    {
     "data": {
      "text/plain": [
       "<mysql.connector.connection.MySQLConnection at 0x163c6f6d0>"
      ]
     },
     "execution_count": 2,
     "metadata": {},
     "output_type": "execute_result"
    }
   ],
   "source": [
    "## Connect to 'daydayup_db' to extract data\n",
    "conn = make_connection(config_file = 'config_sjsu_daydayup_db.ini')\n",
    "cursor = conn.cursor()\n",
    "conn"
   ]
  },
  {
   "cell_type": "code",
   "execution_count": 3,
   "id": "933c543a-1601-4f43-b4c6-732c696c98ba",
   "metadata": {},
   "outputs": [
    {
     "data": {
      "text/html": [
       "<div>\n",
       "<style scoped>\n",
       "    .dataframe tbody tr th:only-of-type {\n",
       "        vertical-align: middle;\n",
       "    }\n",
       "\n",
       "    .dataframe tbody tr th {\n",
       "        vertical-align: top;\n",
       "    }\n",
       "\n",
       "    .dataframe thead th {\n",
       "        text-align: right;\n",
       "    }\n",
       "</style>\n",
       "<table border=\"1\" class=\"dataframe\">\n",
       "  <thead>\n",
       "    <tr style=\"text-align: right;\">\n",
       "      <th></th>\n",
       "      <th>CustomerId</th>\n",
       "      <th>FirstName</th>\n",
       "      <th>LastName</th>\n",
       "      <th>Address</th>\n",
       "      <th>City</th>\n",
       "      <th>State</th>\n",
       "      <th>Country</th>\n",
       "      <th>PostalCode</th>\n",
       "      <th>Phone</th>\n",
       "      <th>Email</th>\n",
       "      <th>SupportRepId</th>\n",
       "    </tr>\n",
       "  </thead>\n",
       "  <tbody>\n",
       "    <tr>\n",
       "      <th>0</th>\n",
       "      <td>1</td>\n",
       "      <td>Luís</td>\n",
       "      <td>Gonçalves</td>\n",
       "      <td>Av. Brigadeiro Faria Lima, 2170</td>\n",
       "      <td>São José dos Campos</td>\n",
       "      <td>SP</td>\n",
       "      <td>Brazil</td>\n",
       "      <td>12227-000</td>\n",
       "      <td>+55 (12) 3923-5555</td>\n",
       "      <td>luisg@embraer.com.br</td>\n",
       "      <td>3</td>\n",
       "    </tr>\n",
       "    <tr>\n",
       "      <th>1</th>\n",
       "      <td>2</td>\n",
       "      <td>Leonie</td>\n",
       "      <td>Köhler</td>\n",
       "      <td>Theodor-Heuss-Straße 34</td>\n",
       "      <td>Stuttgart</td>\n",
       "      <td>None</td>\n",
       "      <td>Germany</td>\n",
       "      <td>70174</td>\n",
       "      <td>+49 0711 2842222</td>\n",
       "      <td>leonekohler@surfeu.de</td>\n",
       "      <td>5</td>\n",
       "    </tr>\n",
       "    <tr>\n",
       "      <th>2</th>\n",
       "      <td>3</td>\n",
       "      <td>François</td>\n",
       "      <td>Tremblay</td>\n",
       "      <td>1498 rue Bélanger</td>\n",
       "      <td>Montréal</td>\n",
       "      <td>QC</td>\n",
       "      <td>Canada</td>\n",
       "      <td>H2G 1A7</td>\n",
       "      <td>+1 (514) 721-4711</td>\n",
       "      <td>ftremblay@gmail.com</td>\n",
       "      <td>3</td>\n",
       "    </tr>\n",
       "    <tr>\n",
       "      <th>3</th>\n",
       "      <td>4</td>\n",
       "      <td>Bjørn</td>\n",
       "      <td>Hansen</td>\n",
       "      <td>Ullevålsveien 14</td>\n",
       "      <td>Oslo</td>\n",
       "      <td>None</td>\n",
       "      <td>Norway</td>\n",
       "      <td>0171</td>\n",
       "      <td>+47 22 44 22 22</td>\n",
       "      <td>bjorn.hansen@yahoo.no</td>\n",
       "      <td>4</td>\n",
       "    </tr>\n",
       "    <tr>\n",
       "      <th>4</th>\n",
       "      <td>5</td>\n",
       "      <td>František</td>\n",
       "      <td>Wichterlová</td>\n",
       "      <td>Klanova 9/506</td>\n",
       "      <td>Prague</td>\n",
       "      <td>None</td>\n",
       "      <td>Czech Republic</td>\n",
       "      <td>14700</td>\n",
       "      <td>+420 2 4172 5555</td>\n",
       "      <td>frantisekw@jetbrains.com</td>\n",
       "      <td>4</td>\n",
       "    </tr>\n",
       "  </tbody>\n",
       "</table>\n",
       "</div>"
      ],
      "text/plain": [
       "   CustomerId  FirstName     LastName                          Address  \\\n",
       "0           1       Luís    Gonçalves  Av. Brigadeiro Faria Lima, 2170   \n",
       "1           2     Leonie       Köhler          Theodor-Heuss-Straße 34   \n",
       "2           3   François     Tremblay                1498 rue Bélanger   \n",
       "3           4      Bjørn       Hansen                 Ullevålsveien 14   \n",
       "4           5  František  Wichterlová                    Klanova 9/506   \n",
       "\n",
       "                  City State         Country PostalCode               Phone  \\\n",
       "0  São José dos Campos    SP          Brazil  12227-000  +55 (12) 3923-5555   \n",
       "1            Stuttgart  None         Germany      70174    +49 0711 2842222   \n",
       "2             Montréal    QC          Canada    H2G 1A7   +1 (514) 721-4711   \n",
       "3                 Oslo  None          Norway       0171     +47 22 44 22 22   \n",
       "4               Prague  None  Czech Republic      14700    +420 2 4172 5555   \n",
       "\n",
       "                      Email  SupportRepId  \n",
       "0      luisg@embraer.com.br             3  \n",
       "1     leonekohler@surfeu.de             5  \n",
       "2       ftremblay@gmail.com             3  \n",
       "3     bjorn.hansen@yahoo.no             4  \n",
       "4  frantisekw@jetbrains.com             4  "
      ]
     },
     "execution_count": 3,
     "metadata": {},
     "output_type": "execute_result"
    }
   ],
   "source": [
    "## Extract data from the relational schema on database 'daydayup_db'\n",
    "\n",
    "df_customer = pd.read_sql(\"SELECT * from Customer\", conn)\n",
    "\n",
    "## Drop the columns \"Fax\" and \"Company\"\n",
    "df_customer.drop(columns=['Fax', 'Company'], axis=1, inplace=True)\n",
    "df_customer.head()"
   ]
  },
  {
   "cell_type": "code",
   "execution_count": 4,
   "id": "9f999e64-aad3-4146-8707-d3ff3140b1b8",
   "metadata": {},
   "outputs": [
    {
     "data": {
      "text/html": [
       "<div>\n",
       "<style scoped>\n",
       "    .dataframe tbody tr th:only-of-type {\n",
       "        vertical-align: middle;\n",
       "    }\n",
       "\n",
       "    .dataframe tbody tr th {\n",
       "        vertical-align: top;\n",
       "    }\n",
       "\n",
       "    .dataframe thead th {\n",
       "        text-align: right;\n",
       "    }\n",
       "</style>\n",
       "<table border=\"1\" class=\"dataframe\">\n",
       "  <thead>\n",
       "    <tr style=\"text-align: right;\">\n",
       "      <th></th>\n",
       "      <th>CustomerId</th>\n",
       "      <th>FirstName</th>\n",
       "      <th>LastName</th>\n",
       "      <th>Address</th>\n",
       "      <th>City</th>\n",
       "      <th>State</th>\n",
       "      <th>Country</th>\n",
       "      <th>PostalCode</th>\n",
       "      <th>Phone</th>\n",
       "      <th>Email</th>\n",
       "      <th>SupportRepId</th>\n",
       "    </tr>\n",
       "  </thead>\n",
       "  <tbody>\n",
       "    <tr>\n",
       "      <th>0</th>\n",
       "      <td>1</td>\n",
       "      <td>Luís</td>\n",
       "      <td>Gonçalves</td>\n",
       "      <td>Av. Brigadeiro Faria Lima, 2170</td>\n",
       "      <td>São José dos Campos</td>\n",
       "      <td>SP</td>\n",
       "      <td>Brazil</td>\n",
       "      <td>12227-000</td>\n",
       "      <td>+55 (12) 3923-5555</td>\n",
       "      <td>luisg@embraer.com.br</td>\n",
       "      <td>3</td>\n",
       "    </tr>\n",
       "    <tr>\n",
       "      <th>1</th>\n",
       "      <td>2</td>\n",
       "      <td>Leonie</td>\n",
       "      <td>Köhler</td>\n",
       "      <td>Theodor-Heuss-Straße 34</td>\n",
       "      <td>Stuttgart</td>\n",
       "      <td>Unknown</td>\n",
       "      <td>Germany</td>\n",
       "      <td>70174</td>\n",
       "      <td>+49 0711 2842222</td>\n",
       "      <td>leonekohler@surfeu.de</td>\n",
       "      <td>5</td>\n",
       "    </tr>\n",
       "    <tr>\n",
       "      <th>2</th>\n",
       "      <td>3</td>\n",
       "      <td>François</td>\n",
       "      <td>Tremblay</td>\n",
       "      <td>1498 rue Bélanger</td>\n",
       "      <td>Montréal</td>\n",
       "      <td>QC</td>\n",
       "      <td>Canada</td>\n",
       "      <td>H2G 1A7</td>\n",
       "      <td>+1 (514) 721-4711</td>\n",
       "      <td>ftremblay@gmail.com</td>\n",
       "      <td>3</td>\n",
       "    </tr>\n",
       "    <tr>\n",
       "      <th>3</th>\n",
       "      <td>4</td>\n",
       "      <td>Bjørn</td>\n",
       "      <td>Hansen</td>\n",
       "      <td>Ullevålsveien 14</td>\n",
       "      <td>Oslo</td>\n",
       "      <td>Unknown</td>\n",
       "      <td>Norway</td>\n",
       "      <td>0171</td>\n",
       "      <td>+47 22 44 22 22</td>\n",
       "      <td>bjorn.hansen@yahoo.no</td>\n",
       "      <td>4</td>\n",
       "    </tr>\n",
       "    <tr>\n",
       "      <th>4</th>\n",
       "      <td>5</td>\n",
       "      <td>František</td>\n",
       "      <td>Wichterlová</td>\n",
       "      <td>Klanova 9/506</td>\n",
       "      <td>Prague</td>\n",
       "      <td>Unknown</td>\n",
       "      <td>Czech Republic</td>\n",
       "      <td>14700</td>\n",
       "      <td>+420 2 4172 5555</td>\n",
       "      <td>frantisekw@jetbrains.com</td>\n",
       "      <td>4</td>\n",
       "    </tr>\n",
       "  </tbody>\n",
       "</table>\n",
       "</div>"
      ],
      "text/plain": [
       "   CustomerId  FirstName     LastName                          Address  \\\n",
       "0           1       Luís    Gonçalves  Av. Brigadeiro Faria Lima, 2170   \n",
       "1           2     Leonie       Köhler          Theodor-Heuss-Straße 34   \n",
       "2           3   François     Tremblay                1498 rue Bélanger   \n",
       "3           4      Bjørn       Hansen                 Ullevålsveien 14   \n",
       "4           5  František  Wichterlová                    Klanova 9/506   \n",
       "\n",
       "                  City    State         Country PostalCode  \\\n",
       "0  São José dos Campos       SP          Brazil  12227-000   \n",
       "1            Stuttgart  Unknown         Germany      70174   \n",
       "2             Montréal       QC          Canada    H2G 1A7   \n",
       "3                 Oslo  Unknown          Norway       0171   \n",
       "4               Prague  Unknown  Czech Republic      14700   \n",
       "\n",
       "                Phone                     Email  SupportRepId  \n",
       "0  +55 (12) 3923-5555      luisg@embraer.com.br             3  \n",
       "1    +49 0711 2842222     leonekohler@surfeu.de             5  \n",
       "2   +1 (514) 721-4711       ftremblay@gmail.com             3  \n",
       "3     +47 22 44 22 22     bjorn.hansen@yahoo.no             4  \n",
       "4    +420 2 4172 5555  frantisekw@jetbrains.com             4  "
      ]
     },
     "execution_count": 4,
     "metadata": {},
     "output_type": "execute_result"
    }
   ],
   "source": [
    "## Replace all the \"None\" values with \"Unknown\", use the \"Unknow\" as a group later in data analysis\n",
    "df_customer.fillna(value=\"Unknown\", inplace=True)\n",
    "df_customer.head()"
   ]
  },
  {
   "cell_type": "code",
   "execution_count": 5,
   "id": "0dde7f3a-12d2-44a4-9107-25a96d7573e1",
   "metadata": {},
   "outputs": [],
   "source": [
    "## Export the transformed data to csv\n",
    "df_customer.to_csv('db2_customer.csv', index=False)"
   ]
  },
  {
   "cell_type": "code",
   "execution_count": 6,
   "id": "3e170dc8-57d5-49a6-b334-d428dada6a29",
   "metadata": {},
   "outputs": [],
   "source": [
    "cursor.close()\n",
    "conn.close()"
   ]
  },
  {
   "cell_type": "code",
   "execution_count": 7,
   "id": "5218461e-5798-45f0-b33d-0152303c4005",
   "metadata": {},
   "outputs": [],
   "source": [
    "## Connect to 'daydayup_db2' to drop all tables\n",
    "conn = make_connection(config_file = 'config_sjsu_daydayup_db2.ini') ## db2\n",
    "cursor = conn.cursor()\n",
    "\n",
    "cursor.execute(\"SET FOREIGN_KEY_CHECKS = 0\")\n",
    "cursor.execute(\"DROP TABLE IF EXISTS Album\")\n",
    "cursor.execute(\"DROP TABLE IF EXISTS Artist\")\n",
    "cursor.execute(\"DROP TABLE IF EXISTS Customer\")\n",
    "cursor.execute(\"DROP TABLE IF EXISTS Employee\")\n",
    "cursor.execute(\"DROP TABLE IF EXISTS Genre\")\n",
    "cursor.execute(\"DROP TABLE IF EXISTS Invoice\")\n",
    "cursor.execute(\"DROP TABLE IF EXISTS InvoiceLine\")\n",
    "cursor.execute(\"DROP TABLE IF EXISTS MediaType\")\n",
    "cursor.execute(\"DROP TABLE IF EXISTS Playlist\")\n",
    "cursor.execute(\"DROP TABLE IF EXISTS PlaylistTrack\")\n",
    "cursor.execute(\"DROP TABLE IF EXISTS Track\")\n",
    "cursor.execute(\"SET FOREIGN_KEY_CHECKS = 1\")"
   ]
  },
  {
   "cell_type": "code",
   "execution_count": 8,
   "id": "97998458-0f59-4ec8-bb88-35a297caa0b4",
   "metadata": {},
   "outputs": [],
   "source": [
    "## Create the table\n",
    "sql = \"\"\"\n",
    "CREATE TABLE `Customer`\n",
    "(\n",
    "    `CustomerId` INT NOT NULL DEFAULT 0,\n",
    "    `FirstName` NVARCHAR(40) DEFAULT 'None',\n",
    "    `LastName` NVARCHAR(20) DEFAULT 'None',\n",
    "    `Address` NVARCHAR(70) DEFAULT 'None',\n",
    "    `City` NVARCHAR(40) DEFAULT 'None',\n",
    "    `State` NVARCHAR(40) DEFAULT 'None',\n",
    "    `Country` NVARCHAR(40) DEFAULT 'None',\n",
    "    `PostalCode` NVARCHAR(10) DEFAULT 'None',\n",
    "    `Phone` NVARCHAR(24) DEFAULT 'None',\n",
    "    `Email` NVARCHAR(60) DEFAULT 'None',\n",
    "    `SupportRepId` INT DEFAULT 0,\n",
    "    CONSTRAINT `PK_Customer` PRIMARY KEY  (`CustomerId`)\n",
    ")\"\"\"\n",
    "cursor.execute(sql)"
   ]
  },
  {
   "cell_type": "code",
   "execution_count": 9,
   "id": "f815dfeb-ac26-4bf4-b3a8-5d764524984f",
   "metadata": {},
   "outputs": [],
   "source": [
    "## Export the transformed data to csv\n",
    "df_customer.to_csv('db2_customer.csv', index=False)"
   ]
  },
  {
   "cell_type": "code",
   "execution_count": 10,
   "id": "3eee1d59-c7e6-4cc8-8c84-39626989d261",
   "metadata": {},
   "outputs": [],
   "source": [
    "## Populate the dimension table Customer\n",
    "sql_c = ( \"INSERT INTO Customer \\n\"\n",
    "        + \"VALUES (%s, %s, %s, %s, %s,  %s, %s, %s, %s, %s,  %s)\"\n",
    "        )\n",
    "\n",
    "\n",
    "first = True ## Skip the first row\n",
    "\n",
    "with open('db2_customer.csv', newline='') as csv_file:\n",
    "    data = csv.reader(csv_file, delimiter=',', quotechar='\"')\n",
    "    \n",
    "    for row in data:\n",
    "        if not first:\n",
    "            #transform(row)\n",
    "            cursor.execute(sql_c, row)\n",
    "            \n",
    "        first = False\n",
    "    \n",
    "conn.commit()\n",
    "cursor.close()\n",
    "conn.close()"
   ]
  },
  {
   "cell_type": "markdown",
   "id": "d1f85936-fdaf-4b29-80f8-d2ba0b6b059e",
   "metadata": {},
   "source": [
    "# 2 Table Employeee"
   ]
  },
  {
   "cell_type": "code",
   "execution_count": 11,
   "id": "f965d17d-eb7c-46e2-a67f-f85c4917d2c1",
   "metadata": {},
   "outputs": [
    {
     "data": {
      "text/plain": [
       "<mysql.connector.connection.MySQLConnection at 0x16b7e9f00>"
      ]
     },
     "execution_count": 11,
     "metadata": {},
     "output_type": "execute_result"
    }
   ],
   "source": [
    "conn = make_connection(config_file = 'config_sjsu_daydayup_db.ini')\n",
    "cursor = conn.cursor()\n",
    "conn"
   ]
  },
  {
   "cell_type": "code",
   "execution_count": 12,
   "id": "417f40de-c46e-4c45-8315-876870d7397e",
   "metadata": {},
   "outputs": [
    {
     "data": {
      "text/html": [
       "<div>\n",
       "<style scoped>\n",
       "    .dataframe tbody tr th:only-of-type {\n",
       "        vertical-align: middle;\n",
       "    }\n",
       "\n",
       "    .dataframe tbody tr th {\n",
       "        vertical-align: top;\n",
       "    }\n",
       "\n",
       "    .dataframe thead th {\n",
       "        text-align: right;\n",
       "    }\n",
       "</style>\n",
       "<table border=\"1\" class=\"dataframe\">\n",
       "  <thead>\n",
       "    <tr style=\"text-align: right;\">\n",
       "      <th></th>\n",
       "      <th>EmployeeId</th>\n",
       "      <th>LastName</th>\n",
       "      <th>FirstName</th>\n",
       "      <th>Title</th>\n",
       "      <th>ReportsTo</th>\n",
       "      <th>BirthDate</th>\n",
       "      <th>HireDate</th>\n",
       "      <th>Address</th>\n",
       "      <th>City</th>\n",
       "      <th>State</th>\n",
       "      <th>Country</th>\n",
       "      <th>PostalCode</th>\n",
       "      <th>Phone</th>\n",
       "      <th>Fax</th>\n",
       "      <th>Email</th>\n",
       "    </tr>\n",
       "  </thead>\n",
       "  <tbody>\n",
       "    <tr>\n",
       "      <th>0</th>\n",
       "      <td>1</td>\n",
       "      <td>ADAMS</td>\n",
       "      <td>Andrew</td>\n",
       "      <td>General Manager</td>\n",
       "      <td>NaN</td>\n",
       "      <td>1962-02-18</td>\n",
       "      <td>2002-08-14</td>\n",
       "      <td>11120 Jasper Ave NW</td>\n",
       "      <td>Edmonton</td>\n",
       "      <td>AB</td>\n",
       "      <td>Canada</td>\n",
       "      <td>T5K 2N1</td>\n",
       "      <td>+1 (780) 428-9482</td>\n",
       "      <td>+1 (780) 428-3457</td>\n",
       "      <td>andrew@chinookcorp.com</td>\n",
       "    </tr>\n",
       "    <tr>\n",
       "      <th>1</th>\n",
       "      <td>2</td>\n",
       "      <td>Edwards</td>\n",
       "      <td>Nancy</td>\n",
       "      <td>Sales Manager</td>\n",
       "      <td>1.0</td>\n",
       "      <td>1958-12-08</td>\n",
       "      <td>2002-05-01</td>\n",
       "      <td>825 8 Ave SW</td>\n",
       "      <td>Calgary</td>\n",
       "      <td>AB</td>\n",
       "      <td>Canada</td>\n",
       "      <td>T2P 2T3</td>\n",
       "      <td>+1 (403) 262-3443</td>\n",
       "      <td>+1 (403) 262-3322</td>\n",
       "      <td>nancy@chinookcorp.com</td>\n",
       "    </tr>\n",
       "    <tr>\n",
       "      <th>2</th>\n",
       "      <td>3</td>\n",
       "      <td>Peacock</td>\n",
       "      <td>Jane</td>\n",
       "      <td>Sales Support Agent</td>\n",
       "      <td>2.0</td>\n",
       "      <td>1973-08-29</td>\n",
       "      <td>2002-04-01</td>\n",
       "      <td>1111 6 Ave SW</td>\n",
       "      <td>Calgary</td>\n",
       "      <td>AB</td>\n",
       "      <td>Canada</td>\n",
       "      <td>T2P 5M5</td>\n",
       "      <td>+1 (403) 262-3443</td>\n",
       "      <td>+1 (403) 262-6712</td>\n",
       "      <td>jane@chinookcorp.com</td>\n",
       "    </tr>\n",
       "    <tr>\n",
       "      <th>3</th>\n",
       "      <td>4</td>\n",
       "      <td>Park</td>\n",
       "      <td>Margaret</td>\n",
       "      <td>Sales Support Agent</td>\n",
       "      <td>2.0</td>\n",
       "      <td>1947-09-19</td>\n",
       "      <td>2003-05-03</td>\n",
       "      <td>683 10 Street SW</td>\n",
       "      <td>Calgary</td>\n",
       "      <td>AB</td>\n",
       "      <td>Canada</td>\n",
       "      <td>T2P 5G3</td>\n",
       "      <td>+1 (403) 263-4423</td>\n",
       "      <td>+1 (403) 263-4289</td>\n",
       "      <td>margaret@chinookcorp.com</td>\n",
       "    </tr>\n",
       "    <tr>\n",
       "      <th>4</th>\n",
       "      <td>5</td>\n",
       "      <td>Johnson</td>\n",
       "      <td>Steve</td>\n",
       "      <td>Sales Support Agent</td>\n",
       "      <td>2.0</td>\n",
       "      <td>1965-03-03</td>\n",
       "      <td>2003-10-17</td>\n",
       "      <td>7727B 41 Ave</td>\n",
       "      <td>Calgary</td>\n",
       "      <td>AB</td>\n",
       "      <td>Canada</td>\n",
       "      <td>T3B 1Y7</td>\n",
       "      <td>1 (780) 836-9987</td>\n",
       "      <td>1 (780) 836-9543</td>\n",
       "      <td>steve@chinookcorp.com</td>\n",
       "    </tr>\n",
       "    <tr>\n",
       "      <th>5</th>\n",
       "      <td>6</td>\n",
       "      <td>Mitchell</td>\n",
       "      <td>Michael</td>\n",
       "      <td>IT Manager</td>\n",
       "      <td>1.0</td>\n",
       "      <td>1973-07-01</td>\n",
       "      <td>2003-10-17</td>\n",
       "      <td>5827 Bowness Road NW</td>\n",
       "      <td>Calgary</td>\n",
       "      <td>AB</td>\n",
       "      <td>Canada</td>\n",
       "      <td>T3B 0C5</td>\n",
       "      <td>+1 (403) 246-9887</td>\n",
       "      <td>+1 (403) 246-9899</td>\n",
       "      <td>michael@chinookcorp.com</td>\n",
       "    </tr>\n",
       "    <tr>\n",
       "      <th>6</th>\n",
       "      <td>7</td>\n",
       "      <td>King</td>\n",
       "      <td>Robert</td>\n",
       "      <td>IT Staff</td>\n",
       "      <td>6.0</td>\n",
       "      <td>1970-05-29</td>\n",
       "      <td>2004-01-02</td>\n",
       "      <td>590 Columbia Boulevard West</td>\n",
       "      <td>Lethbridge</td>\n",
       "      <td>AB</td>\n",
       "      <td>Canada</td>\n",
       "      <td>T1K 5N8</td>\n",
       "      <td>+1 (403) 456-9986</td>\n",
       "      <td>+1 (403) 456-8485</td>\n",
       "      <td>robert@chinookcorp.com</td>\n",
       "    </tr>\n",
       "    <tr>\n",
       "      <th>7</th>\n",
       "      <td>8</td>\n",
       "      <td>Callahan</td>\n",
       "      <td>Laura</td>\n",
       "      <td>IT Staff</td>\n",
       "      <td>6.0</td>\n",
       "      <td>1968-01-09</td>\n",
       "      <td>2004-03-04</td>\n",
       "      <td>923 7 ST NW</td>\n",
       "      <td>Lethbridge</td>\n",
       "      <td>AB</td>\n",
       "      <td>Canada</td>\n",
       "      <td>T1H 1Y8</td>\n",
       "      <td>+1 (403) 467-3351</td>\n",
       "      <td>+1 (403) 467-8772</td>\n",
       "      <td>laura@chinookcorp.com</td>\n",
       "    </tr>\n",
       "  </tbody>\n",
       "</table>\n",
       "</div>"
      ],
      "text/plain": [
       "   EmployeeId  LastName FirstName                Title  ReportsTo  BirthDate  \\\n",
       "0           1     ADAMS    Andrew      General Manager        NaN 1962-02-18   \n",
       "1           2   Edwards     Nancy        Sales Manager        1.0 1958-12-08   \n",
       "2           3   Peacock      Jane  Sales Support Agent        2.0 1973-08-29   \n",
       "3           4      Park  Margaret  Sales Support Agent        2.0 1947-09-19   \n",
       "4           5   Johnson     Steve  Sales Support Agent        2.0 1965-03-03   \n",
       "5           6  Mitchell   Michael           IT Manager        1.0 1973-07-01   \n",
       "6           7      King    Robert             IT Staff        6.0 1970-05-29   \n",
       "7           8  Callahan     Laura             IT Staff        6.0 1968-01-09   \n",
       "\n",
       "    HireDate                      Address        City State Country  \\\n",
       "0 2002-08-14          11120 Jasper Ave NW    Edmonton    AB  Canada   \n",
       "1 2002-05-01                 825 8 Ave SW     Calgary    AB  Canada   \n",
       "2 2002-04-01                1111 6 Ave SW     Calgary    AB  Canada   \n",
       "3 2003-05-03             683 10 Street SW     Calgary    AB  Canada   \n",
       "4 2003-10-17                 7727B 41 Ave     Calgary    AB  Canada   \n",
       "5 2003-10-17         5827 Bowness Road NW     Calgary    AB  Canada   \n",
       "6 2004-01-02  590 Columbia Boulevard West  Lethbridge    AB  Canada   \n",
       "7 2004-03-04                  923 7 ST NW  Lethbridge    AB  Canada   \n",
       "\n",
       "  PostalCode              Phone                Fax                     Email  \n",
       "0    T5K 2N1  +1 (780) 428-9482  +1 (780) 428-3457    andrew@chinookcorp.com  \n",
       "1    T2P 2T3  +1 (403) 262-3443  +1 (403) 262-3322     nancy@chinookcorp.com  \n",
       "2    T2P 5M5  +1 (403) 262-3443  +1 (403) 262-6712      jane@chinookcorp.com  \n",
       "3    T2P 5G3  +1 (403) 263-4423  +1 (403) 263-4289  margaret@chinookcorp.com  \n",
       "4    T3B 1Y7   1 (780) 836-9987   1 (780) 836-9543     steve@chinookcorp.com  \n",
       "5    T3B 0C5  +1 (403) 246-9887  +1 (403) 246-9899   michael@chinookcorp.com  \n",
       "6    T1K 5N8  +1 (403) 456-9986  +1 (403) 456-8485    robert@chinookcorp.com  \n",
       "7    T1H 1Y8  +1 (403) 467-3351  +1 (403) 467-8772     laura@chinookcorp.com  "
      ]
     },
     "execution_count": 12,
     "metadata": {},
     "output_type": "execute_result"
    }
   ],
   "source": [
    "df_employee = pd.read_sql(\"select * from Employee\", conn)\n",
    "df_employee"
   ]
  },
  {
   "cell_type": "code",
   "execution_count": 13,
   "id": "2acb941e-a055-4d27-a32a-2354dcbac885",
   "metadata": {},
   "outputs": [
    {
     "data": {
      "text/plain": [
       "EmployeeId    0\n",
       "LastName      0\n",
       "FirstName     0\n",
       "Title         0\n",
       "ReportsTo     1\n",
       "BirthDate     0\n",
       "HireDate      0\n",
       "Address       0\n",
       "City          0\n",
       "State         0\n",
       "Country       0\n",
       "PostalCode    0\n",
       "Phone         0\n",
       "Fax           0\n",
       "Email         0\n",
       "dtype: int64"
      ]
     },
     "execution_count": 13,
     "metadata": {},
     "output_type": "execute_result"
    }
   ],
   "source": [
    "df_employee.isnull().sum()"
   ]
  },
  {
   "cell_type": "code",
   "execution_count": 14,
   "id": "90c4aa67-78a3-4006-824b-97a7c30655b2",
   "metadata": {},
   "outputs": [
    {
     "data": {
      "text/html": [
       "<div>\n",
       "<style scoped>\n",
       "    .dataframe tbody tr th:only-of-type {\n",
       "        vertical-align: middle;\n",
       "    }\n",
       "\n",
       "    .dataframe tbody tr th {\n",
       "        vertical-align: top;\n",
       "    }\n",
       "\n",
       "    .dataframe thead th {\n",
       "        text-align: right;\n",
       "    }\n",
       "</style>\n",
       "<table border=\"1\" class=\"dataframe\">\n",
       "  <thead>\n",
       "    <tr style=\"text-align: right;\">\n",
       "      <th></th>\n",
       "      <th>EmployeeId</th>\n",
       "      <th>LastName</th>\n",
       "      <th>FirstName</th>\n",
       "      <th>Title</th>\n",
       "      <th>ReportsTo</th>\n",
       "      <th>BirthDate</th>\n",
       "      <th>HireDate</th>\n",
       "      <th>Address</th>\n",
       "      <th>City</th>\n",
       "      <th>State</th>\n",
       "      <th>Country</th>\n",
       "      <th>PostalCode</th>\n",
       "      <th>Phone</th>\n",
       "      <th>Fax</th>\n",
       "      <th>Email</th>\n",
       "    </tr>\n",
       "  </thead>\n",
       "  <tbody>\n",
       "    <tr>\n",
       "      <th>0</th>\n",
       "      <td>1</td>\n",
       "      <td>ADAMS</td>\n",
       "      <td>Andrew</td>\n",
       "      <td>General Manager</td>\n",
       "      <td>NaN</td>\n",
       "      <td>1962-02-18</td>\n",
       "      <td>2002-08-14</td>\n",
       "      <td>11120 Jasper Ave NW</td>\n",
       "      <td>Edmonton</td>\n",
       "      <td>AB</td>\n",
       "      <td>Canada</td>\n",
       "      <td>T5K 2N1</td>\n",
       "      <td>+1 (780) 428-9482</td>\n",
       "      <td>+1 (780) 428-3457</td>\n",
       "      <td>andrew@chinookcorp.com</td>\n",
       "    </tr>\n",
       "  </tbody>\n",
       "</table>\n",
       "</div>"
      ],
      "text/plain": [
       "   EmployeeId LastName FirstName            Title  ReportsTo  BirthDate  \\\n",
       "0           1    ADAMS    Andrew  General Manager        NaN 1962-02-18   \n",
       "\n",
       "    HireDate              Address      City State Country PostalCode  \\\n",
       "0 2002-08-14  11120 Jasper Ave NW  Edmonton    AB  Canada    T5K 2N1   \n",
       "\n",
       "               Phone                Fax                   Email  \n",
       "0  +1 (780) 428-9482  +1 (780) 428-3457  andrew@chinookcorp.com  "
      ]
     },
     "execution_count": 14,
     "metadata": {},
     "output_type": "execute_result"
    }
   ],
   "source": [
    "df_employee[df_employee.ReportsTo.isnull()] ## Adams Andrew doesn't need to reports to anybody"
   ]
  },
  {
   "cell_type": "code",
   "execution_count": 15,
   "id": "72b7478c-e77d-49ab-ae42-927ffc7eabc7",
   "metadata": {},
   "outputs": [],
   "source": [
    "df_employee.ReportsTo.fillna(value=1, inplace=True)"
   ]
  },
  {
   "cell_type": "code",
   "execution_count": 16,
   "id": "61035cab-9c86-4f23-8c9e-fb18e813c42c",
   "metadata": {},
   "outputs": [
    {
     "data": {
      "text/html": [
       "<div>\n",
       "<style scoped>\n",
       "    .dataframe tbody tr th:only-of-type {\n",
       "        vertical-align: middle;\n",
       "    }\n",
       "\n",
       "    .dataframe tbody tr th {\n",
       "        vertical-align: top;\n",
       "    }\n",
       "\n",
       "    .dataframe thead th {\n",
       "        text-align: right;\n",
       "    }\n",
       "</style>\n",
       "<table border=\"1\" class=\"dataframe\">\n",
       "  <thead>\n",
       "    <tr style=\"text-align: right;\">\n",
       "      <th></th>\n",
       "      <th>EmployeeId</th>\n",
       "      <th>LastName</th>\n",
       "      <th>FirstName</th>\n",
       "      <th>Title</th>\n",
       "      <th>ReportsTo</th>\n",
       "      <th>BirthDate</th>\n",
       "      <th>HireDate</th>\n",
       "      <th>Address</th>\n",
       "      <th>City</th>\n",
       "      <th>State</th>\n",
       "      <th>Country</th>\n",
       "      <th>PostalCode</th>\n",
       "      <th>Phone</th>\n",
       "      <th>Fax</th>\n",
       "      <th>Email</th>\n",
       "    </tr>\n",
       "  </thead>\n",
       "  <tbody>\n",
       "  </tbody>\n",
       "</table>\n",
       "</div>"
      ],
      "text/plain": [
       "Empty DataFrame\n",
       "Columns: [EmployeeId, LastName, FirstName, Title, ReportsTo, BirthDate, HireDate, Address, City, State, Country, PostalCode, Phone, Fax, Email]\n",
       "Index: []"
      ]
     },
     "execution_count": 16,
     "metadata": {},
     "output_type": "execute_result"
    }
   ],
   "source": [
    "df_employee[df_employee.ReportsTo.isnull()] ## Adams Andrew doesn't need to reports to himself"
   ]
  },
  {
   "cell_type": "code",
   "execution_count": 17,
   "id": "6a18316a-fe95-4869-9dce-55e6a0147d73",
   "metadata": {},
   "outputs": [
    {
     "data": {
      "text/plain": [
       "dtype('int32')"
      ]
     },
     "execution_count": 17,
     "metadata": {},
     "output_type": "execute_result"
    }
   ],
   "source": [
    "df_employee.ReportsTo = df_employee.ReportsTo.astype('int32')\n",
    "df_employee.ReportsTo.dtype"
   ]
  },
  {
   "cell_type": "code",
   "execution_count": 18,
   "id": "6157acdf-21b7-4e14-ab94-d1eaa1d0a689",
   "metadata": {},
   "outputs": [],
   "source": [
    "df_employee.to_csv(\"db2_employee.csv\", index=False)"
   ]
  },
  {
   "cell_type": "code",
   "execution_count": 19,
   "id": "96db3bf8-eaa1-4a97-9f29-412609a3f025",
   "metadata": {},
   "outputs": [],
   "source": [
    "cursor.close()\n",
    "conn.close()"
   ]
  },
  {
   "cell_type": "code",
   "execution_count": 20,
   "id": "fddcf376-b4b7-4397-9cfd-29f45b560dba",
   "metadata": {},
   "outputs": [
    {
     "data": {
      "text/plain": [
       "<mysql.connector.connection.MySQLConnection at 0x16c20be20>"
      ]
     },
     "execution_count": 20,
     "metadata": {},
     "output_type": "execute_result"
    }
   ],
   "source": [
    "conn = make_connection(config_file = 'config_sjsu_daydayup_db2.ini')\n",
    "cursor = conn.cursor()\n",
    "conn"
   ]
  },
  {
   "cell_type": "code",
   "execution_count": 21,
   "id": "65d90cc2-d163-484a-9938-e9fdd931bfe8",
   "metadata": {},
   "outputs": [],
   "source": [
    "## Create the table\n",
    "sql = '''\n",
    "CREATE TABLE `Employee`\n",
    "(\n",
    "    `EmployeeId` INT NOT NULL DEFAULT 0,\n",
    "    `LastName` NVARCHAR(20) DEFAULT 'None',\n",
    "    `FirstName` NVARCHAR(20) DEFAULT 'None',\n",
    "    `Title` NVARCHAR(30) DEFAULT 'None',\n",
    "    `ReportsTo` INT DEFAULT 0,\n",
    "    `BirthDate` DATETIME DEFAULT '1900-01-01',\n",
    "    `HireDate` DATETIME DEFAULT '1900-01-01',\n",
    "    `Address` NVARCHAR(70) DEFAULT 'None',\n",
    "    `City` NVARCHAR(40) DEFAULT 'None',\n",
    "    `State` NVARCHAR(40) DEFAULT 'None',\n",
    "    `Country` NVARCHAR(40) DEFAULT 'None',\n",
    "    `PostalCode` NVARCHAR(10) DEFAULT 'None',\n",
    "    `Phone` NVARCHAR(24) DEFAULT 'None',\n",
    "    `Fax` NVARCHAR(24) DEFAULT 'None',\n",
    "    `Email` NVARCHAR(60) DEFAULT 'None',\n",
    "    CONSTRAINT `PK_Employee` PRIMARY KEY  (`EmployeeId`)\n",
    ")\n",
    "'''\n",
    "cursor.execute(sql)"
   ]
  },
  {
   "cell_type": "code",
   "execution_count": 22,
   "id": "fcad90e5-24d1-4e49-a2ff-d72a39feb5c5",
   "metadata": {},
   "outputs": [],
   "source": [
    "## Populate the table\n",
    "sql = ( \"INSERT INTO Employee \\n\"\n",
    "        + \"VALUES (%s, %s, %s, %s, %s, %s, %s, %s, %s, %s,%s, %s, %s, %s, %s)\"\n",
    "        )\n",
    "\n",
    "\n",
    "first = True ## Skip the first row\n",
    "\n",
    "with open('db2_employee.csv', newline='') as csv_file:\n",
    "    data = csv.reader(csv_file, delimiter=',', quotechar='\"')\n",
    "    \n",
    "    for row in data:\n",
    "        if not first:\n",
    "            #transform(row)\n",
    "            cursor.execute(sql, row)\n",
    "            \n",
    "        first = False\n",
    "    \n",
    "conn.commit()\n",
    "cursor.close()\n",
    "conn.close()"
   ]
  },
  {
   "cell_type": "markdown",
   "id": "e8269357-df44-42a7-861b-c624eb5cc968",
   "metadata": {},
   "source": [
    "# 3 table Album"
   ]
  },
  {
   "cell_type": "code",
   "execution_count": 23,
   "id": "dc5ae5db-4ddd-4270-b61b-df5a79b64127",
   "metadata": {},
   "outputs": [
    {
     "data": {
      "text/plain": [
       "<mysql.connector.connection.MySQLConnection at 0x16c209ed0>"
      ]
     },
     "execution_count": 23,
     "metadata": {},
     "output_type": "execute_result"
    }
   ],
   "source": [
    "conn = make_connection(config_file = 'config_sjsu_daydayup_db.ini')\n",
    "cursor = conn.cursor()\n",
    "conn"
   ]
  },
  {
   "cell_type": "code",
   "execution_count": 24,
   "id": "06bc26da-ece9-48d8-b700-0f77274dcb98",
   "metadata": {},
   "outputs": [
    {
     "data": {
      "text/html": [
       "<div>\n",
       "<style scoped>\n",
       "    .dataframe tbody tr th:only-of-type {\n",
       "        vertical-align: middle;\n",
       "    }\n",
       "\n",
       "    .dataframe tbody tr th {\n",
       "        vertical-align: top;\n",
       "    }\n",
       "\n",
       "    .dataframe thead th {\n",
       "        text-align: right;\n",
       "    }\n",
       "</style>\n",
       "<table border=\"1\" class=\"dataframe\">\n",
       "  <thead>\n",
       "    <tr style=\"text-align: right;\">\n",
       "      <th></th>\n",
       "      <th>AlbumId</th>\n",
       "      <th>Title</th>\n",
       "      <th>ArtistId</th>\n",
       "    </tr>\n",
       "  </thead>\n",
       "  <tbody>\n",
       "    <tr>\n",
       "      <th>0</th>\n",
       "      <td>1</td>\n",
       "      <td>For Those About To Rock We Salute You</td>\n",
       "      <td>1</td>\n",
       "    </tr>\n",
       "    <tr>\n",
       "      <th>1</th>\n",
       "      <td>2</td>\n",
       "      <td>Balls to the Wall</td>\n",
       "      <td>2</td>\n",
       "    </tr>\n",
       "    <tr>\n",
       "      <th>2</th>\n",
       "      <td>3</td>\n",
       "      <td>Restless and Wild</td>\n",
       "      <td>2</td>\n",
       "    </tr>\n",
       "    <tr>\n",
       "      <th>3</th>\n",
       "      <td>4</td>\n",
       "      <td>Let There Be Rock</td>\n",
       "      <td>1</td>\n",
       "    </tr>\n",
       "    <tr>\n",
       "      <th>4</th>\n",
       "      <td>5</td>\n",
       "      <td>Big Ones</td>\n",
       "      <td>3</td>\n",
       "    </tr>\n",
       "    <tr>\n",
       "      <th>...</th>\n",
       "      <td>...</td>\n",
       "      <td>...</td>\n",
       "      <td>...</td>\n",
       "    </tr>\n",
       "    <tr>\n",
       "      <th>342</th>\n",
       "      <td>343</td>\n",
       "      <td>Respighi:Pines of Rome</td>\n",
       "      <td>226</td>\n",
       "    </tr>\n",
       "    <tr>\n",
       "      <th>343</th>\n",
       "      <td>344</td>\n",
       "      <td>Schubert: The Late String Quartets &amp; String Qu...</td>\n",
       "      <td>272</td>\n",
       "    </tr>\n",
       "    <tr>\n",
       "      <th>344</th>\n",
       "      <td>345</td>\n",
       "      <td>Monteverdi: L'Orfeo</td>\n",
       "      <td>273</td>\n",
       "    </tr>\n",
       "    <tr>\n",
       "      <th>345</th>\n",
       "      <td>346</td>\n",
       "      <td>Mozart: Chamber Music</td>\n",
       "      <td>274</td>\n",
       "    </tr>\n",
       "    <tr>\n",
       "      <th>346</th>\n",
       "      <td>347</td>\n",
       "      <td>Koyaanisqatsi (Soundtrack from the Motion Pict...</td>\n",
       "      <td>275</td>\n",
       "    </tr>\n",
       "  </tbody>\n",
       "</table>\n",
       "<p>347 rows × 3 columns</p>\n",
       "</div>"
      ],
      "text/plain": [
       "     AlbumId                                              Title  ArtistId\n",
       "0          1              For Those About To Rock We Salute You         1\n",
       "1          2                                  Balls to the Wall         2\n",
       "2          3                                  Restless and Wild         2\n",
       "3          4                                  Let There Be Rock         1\n",
       "4          5                                           Big Ones         3\n",
       "..       ...                                                ...       ...\n",
       "342      343                             Respighi:Pines of Rome       226\n",
       "343      344  Schubert: The Late String Quartets & String Qu...       272\n",
       "344      345                                Monteverdi: L'Orfeo       273\n",
       "345      346                              Mozart: Chamber Music       274\n",
       "346      347  Koyaanisqatsi (Soundtrack from the Motion Pict...       275\n",
       "\n",
       "[347 rows x 3 columns]"
      ]
     },
     "execution_count": 24,
     "metadata": {},
     "output_type": "execute_result"
    }
   ],
   "source": [
    "df_album = pd.read_sql(\"select * from Album\", conn)\n",
    "df_album"
   ]
  },
  {
   "cell_type": "code",
   "execution_count": 25,
   "id": "ec6198d9-4379-42ae-974f-16998c4e673a",
   "metadata": {},
   "outputs": [
    {
     "data": {
      "text/plain": [
       "AlbumId     0\n",
       "Title       0\n",
       "ArtistId    0\n",
       "dtype: int64"
      ]
     },
     "execution_count": 25,
     "metadata": {},
     "output_type": "execute_result"
    }
   ],
   "source": [
    "df_album.isnull().sum()"
   ]
  },
  {
   "cell_type": "code",
   "execution_count": 26,
   "id": "1562e163-32a1-40ad-9d1f-176900fae599",
   "metadata": {},
   "outputs": [],
   "source": [
    "df_album.to_csv(\"db2_album.csv\", index=False)"
   ]
  },
  {
   "cell_type": "code",
   "execution_count": 27,
   "id": "3e7025bd-dcee-4c40-ad8c-38ce577b1a04",
   "metadata": {},
   "outputs": [],
   "source": [
    "cursor.close()\n",
    "conn.close()"
   ]
  },
  {
   "cell_type": "code",
   "execution_count": 28,
   "id": "637654fc-1698-4745-9a06-252664d970d7",
   "metadata": {},
   "outputs": [
    {
     "data": {
      "text/plain": [
       "<mysql.connector.connection.MySQLConnection at 0x16c20ad10>"
      ]
     },
     "execution_count": 28,
     "metadata": {},
     "output_type": "execute_result"
    }
   ],
   "source": [
    "## Create and import data for table album: db2\n",
    "conn = make_connection(config_file = 'config_sjsu_daydayup_db2.ini')\n",
    "cursor = conn.cursor()\n",
    "conn"
   ]
  },
  {
   "cell_type": "code",
   "execution_count": 29,
   "id": "db65d540-ec71-4326-aeeb-9fac3724fbab",
   "metadata": {},
   "outputs": [],
   "source": [
    "## Create the table\n",
    "sql = '''\n",
    "CREATE TABLE `Album`\n",
    "                (\n",
    "                    `AlbumId` INT NOT NULL DEFAULT 0,\n",
    "                    `Title` NVARCHAR(160) DEFAULT 'None',\n",
    "                    `ArtistId` INT DEFAULT 0,\n",
    "                    CONSTRAINT `PK_Album` PRIMARY KEY  (`AlbumId`)\n",
    "                ) \n",
    "'''\n",
    "cursor.execute(sql)"
   ]
  },
  {
   "cell_type": "code",
   "execution_count": 30,
   "id": "07632e6a-f3bd-43a0-898f-1104f84c9a75",
   "metadata": {},
   "outputs": [],
   "source": [
    "## Populate the table\n",
    "\n",
    "sql = ( \"INSERT INTO Album \\n\"\n",
    "        + \"VALUES (%s, %s, %s)\"\n",
    "        )\n",
    "\n",
    "\n",
    "first = True ## Skip the first row\n",
    "\n",
    "with open('db2_album.csv', newline='') as csv_file:\n",
    "    data = csv.reader(csv_file, delimiter=',', quotechar='\"')\n",
    "    \n",
    "    for row in data:\n",
    "        if not first:\n",
    "            #transform(row)\n",
    "            cursor.execute(sql, row)\n",
    "            \n",
    "        first = False\n",
    "    \n",
    "conn.commit()\n",
    "cursor.close()\n",
    "conn.close()"
   ]
  },
  {
   "cell_type": "markdown",
   "id": "ee6f87b4-ca6c-49be-8c26-a56738592de0",
   "metadata": {},
   "source": [
    "# 4 Table Artist"
   ]
  },
  {
   "cell_type": "code",
   "execution_count": 31,
   "id": "6d664ceb-bbd1-4463-95a1-716797fa9150",
   "metadata": {},
   "outputs": [
    {
     "data": {
      "text/plain": [
       "<mysql.connector.connection.MySQLConnection at 0x16c2b2770>"
      ]
     },
     "execution_count": 31,
     "metadata": {},
     "output_type": "execute_result"
    }
   ],
   "source": [
    "conn = make_connection(config_file = 'config_sjsu_daydayup_db.ini')\n",
    "cursor = conn.cursor()\n",
    "conn"
   ]
  },
  {
   "cell_type": "code",
   "execution_count": 32,
   "id": "78746708-1ec5-418f-8948-e735250cb8ef",
   "metadata": {},
   "outputs": [
    {
     "data": {
      "text/html": [
       "<div>\n",
       "<style scoped>\n",
       "    .dataframe tbody tr th:only-of-type {\n",
       "        vertical-align: middle;\n",
       "    }\n",
       "\n",
       "    .dataframe tbody tr th {\n",
       "        vertical-align: top;\n",
       "    }\n",
       "\n",
       "    .dataframe thead th {\n",
       "        text-align: right;\n",
       "    }\n",
       "</style>\n",
       "<table border=\"1\" class=\"dataframe\">\n",
       "  <thead>\n",
       "    <tr style=\"text-align: right;\">\n",
       "      <th></th>\n",
       "      <th>ArtistId</th>\n",
       "      <th>Name</th>\n",
       "    </tr>\n",
       "  </thead>\n",
       "  <tbody>\n",
       "    <tr>\n",
       "      <th>0</th>\n",
       "      <td>1</td>\n",
       "      <td>AC/DC</td>\n",
       "    </tr>\n",
       "    <tr>\n",
       "      <th>1</th>\n",
       "      <td>2</td>\n",
       "      <td>Accept</td>\n",
       "    </tr>\n",
       "    <tr>\n",
       "      <th>2</th>\n",
       "      <td>3</td>\n",
       "      <td>Aerosmith</td>\n",
       "    </tr>\n",
       "    <tr>\n",
       "      <th>3</th>\n",
       "      <td>4</td>\n",
       "      <td>Alanis Morissette</td>\n",
       "    </tr>\n",
       "    <tr>\n",
       "      <th>4</th>\n",
       "      <td>5</td>\n",
       "      <td>Alice In Chains</td>\n",
       "    </tr>\n",
       "    <tr>\n",
       "      <th>...</th>\n",
       "      <td>...</td>\n",
       "      <td>...</td>\n",
       "    </tr>\n",
       "    <tr>\n",
       "      <th>272</th>\n",
       "      <td>273</td>\n",
       "      <td>C. Monteverdi, Nigel Rogers - Chiaroscuro; Lon...</td>\n",
       "    </tr>\n",
       "    <tr>\n",
       "      <th>273</th>\n",
       "      <td>274</td>\n",
       "      <td>Nash Ensemble</td>\n",
       "    </tr>\n",
       "    <tr>\n",
       "      <th>274</th>\n",
       "      <td>275</td>\n",
       "      <td>Philip Glass Ensemble</td>\n",
       "    </tr>\n",
       "    <tr>\n",
       "      <th>275</th>\n",
       "      <td>276</td>\n",
       "      <td></td>\n",
       "    </tr>\n",
       "    <tr>\n",
       "      <th>276</th>\n",
       "      <td>999</td>\n",
       "      <td></td>\n",
       "    </tr>\n",
       "  </tbody>\n",
       "</table>\n",
       "<p>277 rows × 2 columns</p>\n",
       "</div>"
      ],
      "text/plain": [
       "     ArtistId                                               Name\n",
       "0           1                                              AC/DC\n",
       "1           2                                             Accept\n",
       "2           3                                          Aerosmith\n",
       "3           4                                  Alanis Morissette\n",
       "4           5                                    Alice In Chains\n",
       "..        ...                                                ...\n",
       "272       273  C. Monteverdi, Nigel Rogers - Chiaroscuro; Lon...\n",
       "273       274                                      Nash Ensemble\n",
       "274       275                              Philip Glass Ensemble\n",
       "275       276                                                   \n",
       "276       999                                                   \n",
       "\n",
       "[277 rows x 2 columns]"
      ]
     },
     "execution_count": 32,
     "metadata": {},
     "output_type": "execute_result"
    }
   ],
   "source": [
    "df_artist = pd.read_sql(\"select * from Artist\", conn)\n",
    "df_artist"
   ]
  },
  {
   "cell_type": "code",
   "execution_count": 33,
   "id": "e0d6e092-62d2-4043-b848-c8ca6078dc5d",
   "metadata": {},
   "outputs": [
    {
     "data": {
      "text/plain": [
       "ArtistId    0\n",
       "Name        0\n",
       "dtype: int64"
      ]
     },
     "execution_count": 33,
     "metadata": {},
     "output_type": "execute_result"
    }
   ],
   "source": [
    "df_artist.isnull().sum()"
   ]
  },
  {
   "cell_type": "code",
   "execution_count": 34,
   "id": "57df1a1f-a5ac-4a1f-9928-2b13dc6ad459",
   "metadata": {},
   "outputs": [],
   "source": [
    "df_artist.to_csv(\"db2_artist.csv\", index=False)\n",
    "cursor.close()\n",
    "conn.close()"
   ]
  },
  {
   "cell_type": "code",
   "execution_count": 35,
   "id": "86c094e2-7eff-4b69-8ab7-d026a1d7b683",
   "metadata": {},
   "outputs": [
    {
     "data": {
      "text/plain": [
       "<mysql.connector.connection.MySQLConnection at 0x16c2b1570>"
      ]
     },
     "execution_count": 35,
     "metadata": {},
     "output_type": "execute_result"
    }
   ],
   "source": [
    "## Create and import data for table artist: db2\n",
    "conn = make_connection(config_file = 'config_sjsu_daydayup_db2.ini')\n",
    "cursor = conn.cursor()\n",
    "conn"
   ]
  },
  {
   "cell_type": "code",
   "execution_count": 36,
   "id": "efc5264d-b462-4f6c-a681-512bf23da614",
   "metadata": {},
   "outputs": [],
   "source": [
    "## Create the table\n",
    "sql = '''\n",
    "CREATE TABLE `Artist`\n",
    "(\n",
    "    `ArtistId` INT NOT NULL DEFAULT 0,\n",
    "    `Name` NVARCHAR(120) DEFAULT 'None',\n",
    "    CONSTRAINT `PK_Artist` PRIMARY KEY  (`ArtistId`)\n",
    ")\n",
    "'''\n",
    "cursor.execute(sql)"
   ]
  },
  {
   "cell_type": "code",
   "execution_count": 37,
   "id": "ff289348-1d7b-4153-93e7-f290dc958533",
   "metadata": {},
   "outputs": [],
   "source": [
    "## Populate the table\n",
    "\n",
    "sql = ( \"INSERT INTO Artist \\n\"\n",
    "        + \"VALUES (%s, %s)\"\n",
    "        )\n",
    "\n",
    "\n",
    "first = True ## Skip the first row\n",
    "\n",
    "with open('db2_artist.csv', newline='') as csv_file:\n",
    "    data = csv.reader(csv_file, delimiter=',', quotechar='\"')\n",
    "    \n",
    "    for row in data:\n",
    "        if not first:\n",
    "            #transform(row)\n",
    "            cursor.execute(sql, row)\n",
    "            \n",
    "        first = False\n",
    "    \n",
    "conn.commit()\n",
    "cursor.close()\n",
    "conn.close()"
   ]
  },
  {
   "cell_type": "markdown",
   "id": "ece41b7f-cc38-4bdf-8044-e2977143cadb",
   "metadata": {},
   "source": [
    "# 5 Table Genre"
   ]
  },
  {
   "cell_type": "code",
   "execution_count": 38,
   "id": "9e1785af-1b31-4037-ad5a-b78c6bb5bf2a",
   "metadata": {},
   "outputs": [
    {
     "data": {
      "text/plain": [
       "<mysql.connector.connection.MySQLConnection at 0x16c2b34c0>"
      ]
     },
     "execution_count": 38,
     "metadata": {},
     "output_type": "execute_result"
    }
   ],
   "source": [
    "conn = make_connection(config_file = 'config_sjsu_daydayup_db.ini')\n",
    "cursor = conn.cursor()\n",
    "conn"
   ]
  },
  {
   "cell_type": "code",
   "execution_count": 39,
   "id": "34f59889-f60f-48d4-8cc7-cc78f8dd3e2c",
   "metadata": {},
   "outputs": [
    {
     "data": {
      "text/html": [
       "<div>\n",
       "<style scoped>\n",
       "    .dataframe tbody tr th:only-of-type {\n",
       "        vertical-align: middle;\n",
       "    }\n",
       "\n",
       "    .dataframe tbody tr th {\n",
       "        vertical-align: top;\n",
       "    }\n",
       "\n",
       "    .dataframe thead th {\n",
       "        text-align: right;\n",
       "    }\n",
       "</style>\n",
       "<table border=\"1\" class=\"dataframe\">\n",
       "  <thead>\n",
       "    <tr style=\"text-align: right;\">\n",
       "      <th></th>\n",
       "      <th>GenreId</th>\n",
       "      <th>Name</th>\n",
       "    </tr>\n",
       "  </thead>\n",
       "  <tbody>\n",
       "    <tr>\n",
       "      <th>0</th>\n",
       "      <td>1</td>\n",
       "      <td>Rock</td>\n",
       "    </tr>\n",
       "    <tr>\n",
       "      <th>1</th>\n",
       "      <td>2</td>\n",
       "      <td>Jazz</td>\n",
       "    </tr>\n",
       "    <tr>\n",
       "      <th>2</th>\n",
       "      <td>3</td>\n",
       "      <td>Metal</td>\n",
       "    </tr>\n",
       "    <tr>\n",
       "      <th>3</th>\n",
       "      <td>4</td>\n",
       "      <td>Alternative &amp; Punk</td>\n",
       "    </tr>\n",
       "    <tr>\n",
       "      <th>4</th>\n",
       "      <td>5</td>\n",
       "      <td>Rock And Roll</td>\n",
       "    </tr>\n",
       "    <tr>\n",
       "      <th>5</th>\n",
       "      <td>6</td>\n",
       "      <td>Blues</td>\n",
       "    </tr>\n",
       "    <tr>\n",
       "      <th>6</th>\n",
       "      <td>7</td>\n",
       "      <td>Latin</td>\n",
       "    </tr>\n",
       "    <tr>\n",
       "      <th>7</th>\n",
       "      <td>8</td>\n",
       "      <td>Reggae</td>\n",
       "    </tr>\n",
       "    <tr>\n",
       "      <th>8</th>\n",
       "      <td>9</td>\n",
       "      <td>Pop</td>\n",
       "    </tr>\n",
       "    <tr>\n",
       "      <th>9</th>\n",
       "      <td>10</td>\n",
       "      <td>Soundtrack</td>\n",
       "    </tr>\n",
       "    <tr>\n",
       "      <th>10</th>\n",
       "      <td>11</td>\n",
       "      <td>Bossa Nova</td>\n",
       "    </tr>\n",
       "    <tr>\n",
       "      <th>11</th>\n",
       "      <td>12</td>\n",
       "      <td>Easy Listening</td>\n",
       "    </tr>\n",
       "    <tr>\n",
       "      <th>12</th>\n",
       "      <td>13</td>\n",
       "      <td>Heavy Metal</td>\n",
       "    </tr>\n",
       "    <tr>\n",
       "      <th>13</th>\n",
       "      <td>14</td>\n",
       "      <td>R&amp;B/Soul</td>\n",
       "    </tr>\n",
       "    <tr>\n",
       "      <th>14</th>\n",
       "      <td>15</td>\n",
       "      <td>Electronica/Dance</td>\n",
       "    </tr>\n",
       "    <tr>\n",
       "      <th>15</th>\n",
       "      <td>16</td>\n",
       "      <td>World</td>\n",
       "    </tr>\n",
       "    <tr>\n",
       "      <th>16</th>\n",
       "      <td>17</td>\n",
       "      <td>Hip Hop/Rap</td>\n",
       "    </tr>\n",
       "    <tr>\n",
       "      <th>17</th>\n",
       "      <td>18</td>\n",
       "      <td>Science Fiction</td>\n",
       "    </tr>\n",
       "    <tr>\n",
       "      <th>18</th>\n",
       "      <td>19</td>\n",
       "      <td>TV Shows</td>\n",
       "    </tr>\n",
       "    <tr>\n",
       "      <th>19</th>\n",
       "      <td>20</td>\n",
       "      <td>Sci Fi &amp; Fantasy</td>\n",
       "    </tr>\n",
       "    <tr>\n",
       "      <th>20</th>\n",
       "      <td>21</td>\n",
       "      <td>Drama</td>\n",
       "    </tr>\n",
       "    <tr>\n",
       "      <th>21</th>\n",
       "      <td>22</td>\n",
       "      <td>Comedy</td>\n",
       "    </tr>\n",
       "    <tr>\n",
       "      <th>22</th>\n",
       "      <td>23</td>\n",
       "      <td>Alternative</td>\n",
       "    </tr>\n",
       "    <tr>\n",
       "      <th>23</th>\n",
       "      <td>24</td>\n",
       "      <td>Classical</td>\n",
       "    </tr>\n",
       "    <tr>\n",
       "      <th>24</th>\n",
       "      <td>25</td>\n",
       "      <td>Opera</td>\n",
       "    </tr>\n",
       "  </tbody>\n",
       "</table>\n",
       "</div>"
      ],
      "text/plain": [
       "    GenreId                Name\n",
       "0         1                Rock\n",
       "1         2                Jazz\n",
       "2         3               Metal\n",
       "3         4  Alternative & Punk\n",
       "4         5       Rock And Roll\n",
       "5         6               Blues\n",
       "6         7               Latin\n",
       "7         8              Reggae\n",
       "8         9                 Pop\n",
       "9        10          Soundtrack\n",
       "10       11          Bossa Nova\n",
       "11       12      Easy Listening\n",
       "12       13         Heavy Metal\n",
       "13       14            R&B/Soul\n",
       "14       15   Electronica/Dance\n",
       "15       16               World\n",
       "16       17         Hip Hop/Rap\n",
       "17       18     Science Fiction\n",
       "18       19            TV Shows\n",
       "19       20    Sci Fi & Fantasy\n",
       "20       21               Drama\n",
       "21       22              Comedy\n",
       "22       23         Alternative\n",
       "23       24           Classical\n",
       "24       25               Opera"
      ]
     },
     "execution_count": 39,
     "metadata": {},
     "output_type": "execute_result"
    }
   ],
   "source": [
    "df_genre = pd.read_sql(\"select * from Genre\", conn)\n",
    "df_genre"
   ]
  },
  {
   "cell_type": "code",
   "execution_count": 40,
   "id": "f613be21-96d3-4ae7-bc98-6a740bc60908",
   "metadata": {},
   "outputs": [
    {
     "data": {
      "text/plain": [
       "GenreId    0\n",
       "Name       0\n",
       "dtype: int64"
      ]
     },
     "execution_count": 40,
     "metadata": {},
     "output_type": "execute_result"
    }
   ],
   "source": [
    "df_genre.isnull().sum()"
   ]
  },
  {
   "cell_type": "code",
   "execution_count": 41,
   "id": "3bebe1ed-a6b1-4a06-ad49-e9854a75d045",
   "metadata": {},
   "outputs": [],
   "source": [
    "df_genre.to_csv(\"db2_genre.csv\", index=False)\n",
    "cursor.close()\n",
    "conn.close()"
   ]
  },
  {
   "cell_type": "code",
   "execution_count": 42,
   "id": "1934b032-998d-4e7d-bbbe-3af94ecc8638",
   "metadata": {},
   "outputs": [
    {
     "data": {
      "text/plain": [
       "<mysql.connector.connection.MySQLConnection at 0x16b751cc0>"
      ]
     },
     "execution_count": 42,
     "metadata": {},
     "output_type": "execute_result"
    }
   ],
   "source": [
    "## Create and import data for table genre: db2\n",
    "conn = make_connection(config_file = 'config_sjsu_daydayup_db2.ini')\n",
    "cursor = conn.cursor()\n",
    "conn"
   ]
  },
  {
   "cell_type": "code",
   "execution_count": 43,
   "id": "f09dfec1-6894-432f-b601-11e8df9cdc3c",
   "metadata": {},
   "outputs": [],
   "source": [
    "## Create the table\n",
    "sql = '''\n",
    "CREATE TABLE `Genre`\n",
    "(\n",
    "    `GenreId` INT NOT NULL DEFAULT 0,\n",
    "    `Name` NVARCHAR(120) DEFAULT 'None',\n",
    "    CONSTRAINT `PK_Genre` PRIMARY KEY  (`GenreId`)\n",
    ")\n",
    "'''\n",
    "cursor.execute(sql)"
   ]
  },
  {
   "cell_type": "code",
   "execution_count": 44,
   "id": "bb9ab311-56a5-4499-b6df-0e3801abc7ee",
   "metadata": {},
   "outputs": [],
   "source": [
    "## Populate the table\n",
    "\n",
    "sql = ( \"INSERT INTO Genre \\n\"\n",
    "        + \"VALUES (%s, %s)\"\n",
    "        )\n",
    "\n",
    "\n",
    "first = True ## Skip the first row\n",
    "\n",
    "with open('db2_genre.csv', newline='') as csv_file:\n",
    "    data = csv.reader(csv_file, delimiter=',', quotechar='\"')\n",
    "    \n",
    "    for row in data:\n",
    "        if not first:\n",
    "            #transform(row)\n",
    "            cursor.execute(sql, row)\n",
    "            \n",
    "        first = False\n",
    "    \n",
    "conn.commit()\n",
    "cursor.close()\n",
    "conn.close()"
   ]
  },
  {
   "cell_type": "markdown",
   "id": "156cb988-3c2c-48bf-b7af-f9b144a5e360",
   "metadata": {
    "tags": []
   },
   "source": [
    "# 6 Table Invoice"
   ]
  },
  {
   "cell_type": "code",
   "execution_count": 45,
   "id": "df033ab2-15e2-4e8f-bbb4-0c05aa45acee",
   "metadata": {},
   "outputs": [
    {
     "data": {
      "text/plain": [
       "<mysql.connector.connection.MySQLConnection at 0x16c2b0550>"
      ]
     },
     "execution_count": 45,
     "metadata": {},
     "output_type": "execute_result"
    }
   ],
   "source": [
    "conn = make_connection(config_file = 'config_sjsu_daydayup_db.ini')\n",
    "cursor = conn.cursor()\n",
    "conn"
   ]
  },
  {
   "cell_type": "code",
   "execution_count": 46,
   "id": "4b68ad31-d294-461e-8ad4-f314b31e48c0",
   "metadata": {},
   "outputs": [
    {
     "data": {
      "text/html": [
       "<div>\n",
       "<style scoped>\n",
       "    .dataframe tbody tr th:only-of-type {\n",
       "        vertical-align: middle;\n",
       "    }\n",
       "\n",
       "    .dataframe tbody tr th {\n",
       "        vertical-align: top;\n",
       "    }\n",
       "\n",
       "    .dataframe thead th {\n",
       "        text-align: right;\n",
       "    }\n",
       "</style>\n",
       "<table border=\"1\" class=\"dataframe\">\n",
       "  <thead>\n",
       "    <tr style=\"text-align: right;\">\n",
       "      <th></th>\n",
       "      <th>InvoiceId</th>\n",
       "      <th>CustomerId</th>\n",
       "      <th>InvoiceDate</th>\n",
       "      <th>BillingAddress</th>\n",
       "      <th>BillingCity</th>\n",
       "      <th>BillingState</th>\n",
       "      <th>BillingCountry</th>\n",
       "      <th>BillingPostalCode</th>\n",
       "      <th>Total</th>\n",
       "    </tr>\n",
       "  </thead>\n",
       "  <tbody>\n",
       "    <tr>\n",
       "      <th>0</th>\n",
       "      <td>1</td>\n",
       "      <td>2</td>\n",
       "      <td>2009-01-01</td>\n",
       "      <td>Theodor-Heuss-Straße 34</td>\n",
       "      <td>Stuttgart</td>\n",
       "      <td>None</td>\n",
       "      <td>Germany</td>\n",
       "      <td>70174</td>\n",
       "      <td>1.98</td>\n",
       "    </tr>\n",
       "    <tr>\n",
       "      <th>1</th>\n",
       "      <td>2</td>\n",
       "      <td>4</td>\n",
       "      <td>2009-01-02</td>\n",
       "      <td>Ullevålsveien 14</td>\n",
       "      <td>Oslo</td>\n",
       "      <td>None</td>\n",
       "      <td>Norway</td>\n",
       "      <td>0171</td>\n",
       "      <td>3.96</td>\n",
       "    </tr>\n",
       "    <tr>\n",
       "      <th>2</th>\n",
       "      <td>3</td>\n",
       "      <td>8</td>\n",
       "      <td>2009-01-03</td>\n",
       "      <td>Grétrystraat 63</td>\n",
       "      <td>Brussels</td>\n",
       "      <td>None</td>\n",
       "      <td>Belgium</td>\n",
       "      <td>1000</td>\n",
       "      <td>5.94</td>\n",
       "    </tr>\n",
       "    <tr>\n",
       "      <th>3</th>\n",
       "      <td>4</td>\n",
       "      <td>14</td>\n",
       "      <td>2009-01-06</td>\n",
       "      <td>8210 111 ST NW</td>\n",
       "      <td>Edmonton</td>\n",
       "      <td>AB</td>\n",
       "      <td>Canada</td>\n",
       "      <td>T6G 2C7</td>\n",
       "      <td>8.91</td>\n",
       "    </tr>\n",
       "    <tr>\n",
       "      <th>4</th>\n",
       "      <td>5</td>\n",
       "      <td>23</td>\n",
       "      <td>2009-01-11</td>\n",
       "      <td>69 Salem Street</td>\n",
       "      <td>Boston</td>\n",
       "      <td>MA</td>\n",
       "      <td>USA</td>\n",
       "      <td>2113</td>\n",
       "      <td>13.86</td>\n",
       "    </tr>\n",
       "    <tr>\n",
       "      <th>...</th>\n",
       "      <td>...</td>\n",
       "      <td>...</td>\n",
       "      <td>...</td>\n",
       "      <td>...</td>\n",
       "      <td>...</td>\n",
       "      <td>...</td>\n",
       "      <td>...</td>\n",
       "      <td>...</td>\n",
       "      <td>...</td>\n",
       "    </tr>\n",
       "    <tr>\n",
       "      <th>407</th>\n",
       "      <td>408</td>\n",
       "      <td>25</td>\n",
       "      <td>2013-12-05</td>\n",
       "      <td>319 N. Frances Street</td>\n",
       "      <td>Madison</td>\n",
       "      <td>WI</td>\n",
       "      <td>USA</td>\n",
       "      <td>53703</td>\n",
       "      <td>3.96</td>\n",
       "    </tr>\n",
       "    <tr>\n",
       "      <th>408</th>\n",
       "      <td>409</td>\n",
       "      <td>29</td>\n",
       "      <td>2013-12-06</td>\n",
       "      <td>796 Dundas Street West</td>\n",
       "      <td>Toronto</td>\n",
       "      <td>ON</td>\n",
       "      <td>Canada</td>\n",
       "      <td>M6J 1V1</td>\n",
       "      <td>5.94</td>\n",
       "    </tr>\n",
       "    <tr>\n",
       "      <th>409</th>\n",
       "      <td>410</td>\n",
       "      <td>35</td>\n",
       "      <td>2013-12-09</td>\n",
       "      <td>Rua dos Campeões Europeus de Viena, 4350</td>\n",
       "      <td>Porto</td>\n",
       "      <td>None</td>\n",
       "      <td>Portugal</td>\n",
       "      <td>None</td>\n",
       "      <td>8.91</td>\n",
       "    </tr>\n",
       "    <tr>\n",
       "      <th>410</th>\n",
       "      <td>411</td>\n",
       "      <td>44</td>\n",
       "      <td>2013-12-14</td>\n",
       "      <td>Porthaninkatu 9</td>\n",
       "      <td>Helsinki</td>\n",
       "      <td>None</td>\n",
       "      <td>Finland</td>\n",
       "      <td>00530</td>\n",
       "      <td>13.86</td>\n",
       "    </tr>\n",
       "    <tr>\n",
       "      <th>411</th>\n",
       "      <td>412</td>\n",
       "      <td>58</td>\n",
       "      <td>2013-12-22</td>\n",
       "      <td>12,Community Centre</td>\n",
       "      <td>Delhi</td>\n",
       "      <td>None</td>\n",
       "      <td>India</td>\n",
       "      <td>110017</td>\n",
       "      <td>1.99</td>\n",
       "    </tr>\n",
       "  </tbody>\n",
       "</table>\n",
       "<p>412 rows × 9 columns</p>\n",
       "</div>"
      ],
      "text/plain": [
       "     InvoiceId  CustomerId InvoiceDate  \\\n",
       "0            1           2  2009-01-01   \n",
       "1            2           4  2009-01-02   \n",
       "2            3           8  2009-01-03   \n",
       "3            4          14  2009-01-06   \n",
       "4            5          23  2009-01-11   \n",
       "..         ...         ...         ...   \n",
       "407        408          25  2013-12-05   \n",
       "408        409          29  2013-12-06   \n",
       "409        410          35  2013-12-09   \n",
       "410        411          44  2013-12-14   \n",
       "411        412          58  2013-12-22   \n",
       "\n",
       "                               BillingAddress BillingCity BillingState  \\\n",
       "0                     Theodor-Heuss-Straße 34   Stuttgart         None   \n",
       "1                            Ullevålsveien 14        Oslo         None   \n",
       "2                             Grétrystraat 63    Brussels         None   \n",
       "3                              8210 111 ST NW    Edmonton           AB   \n",
       "4                             69 Salem Street      Boston           MA   \n",
       "..                                        ...         ...          ...   \n",
       "407                     319 N. Frances Street     Madison           WI   \n",
       "408                    796 Dundas Street West     Toronto           ON   \n",
       "409  Rua dos Campeões Europeus de Viena, 4350       Porto         None   \n",
       "410                           Porthaninkatu 9    Helsinki         None   \n",
       "411                       12,Community Centre       Delhi         None   \n",
       "\n",
       "    BillingCountry BillingPostalCode  Total  \n",
       "0          Germany             70174   1.98  \n",
       "1           Norway              0171   3.96  \n",
       "2          Belgium              1000   5.94  \n",
       "3           Canada           T6G 2C7   8.91  \n",
       "4              USA              2113  13.86  \n",
       "..             ...               ...    ...  \n",
       "407            USA             53703   3.96  \n",
       "408         Canada           M6J 1V1   5.94  \n",
       "409       Portugal              None   8.91  \n",
       "410        Finland             00530  13.86  \n",
       "411          India            110017   1.99  \n",
       "\n",
       "[412 rows x 9 columns]"
      ]
     },
     "execution_count": 46,
     "metadata": {},
     "output_type": "execute_result"
    }
   ],
   "source": [
    "df_invoice = pd.read_sql(\"select * from Invoice\", conn)\n",
    "df_invoice"
   ]
  },
  {
   "cell_type": "code",
   "execution_count": 47,
   "id": "1d9168d9-2aa4-4aa2-ade0-414e9d00cdcb",
   "metadata": {},
   "outputs": [
    {
     "data": {
      "text/plain": [
       "InvoiceId              0\n",
       "CustomerId             0\n",
       "InvoiceDate            0\n",
       "BillingAddress         0\n",
       "BillingCity            0\n",
       "BillingState         202\n",
       "BillingCountry         0\n",
       "BillingPostalCode     28\n",
       "Total                  0\n",
       "dtype: int64"
      ]
     },
     "execution_count": 47,
     "metadata": {},
     "output_type": "execute_result"
    }
   ],
   "source": [
    "df_invoice.isnull().sum()"
   ]
  },
  {
   "cell_type": "code",
   "execution_count": 48,
   "id": "cc26e57d-2661-4e90-9b93-ca6d01ce12bf",
   "metadata": {},
   "outputs": [],
   "source": [
    "df_invoice.fillna(value='Unknown', inplace=True)"
   ]
  },
  {
   "cell_type": "code",
   "execution_count": 49,
   "id": "b3e083dc-13a3-46fa-aba8-023dd8f7015d",
   "metadata": {},
   "outputs": [],
   "source": [
    "df_invoice.to_csv(\"db2_invoice.csv\", index=False)\n",
    "cursor.close()\n",
    "conn.close()"
   ]
  },
  {
   "cell_type": "code",
   "execution_count": 50,
   "id": "1c48df28-17ea-4e28-aaf9-2f8d30250b38",
   "metadata": {},
   "outputs": [
    {
     "data": {
      "text/plain": [
       "<mysql.connector.connection.MySQLConnection at 0x16c316110>"
      ]
     },
     "execution_count": 50,
     "metadata": {},
     "output_type": "execute_result"
    }
   ],
   "source": [
    "## Create and import data for table genre: db2\n",
    "conn = make_connection(config_file = 'config_sjsu_daydayup_db2.ini')\n",
    "cursor = conn.cursor()\n",
    "conn"
   ]
  },
  {
   "cell_type": "code",
   "execution_count": 51,
   "id": "16fa991e-2480-41e7-b869-3640532c93c8",
   "metadata": {},
   "outputs": [],
   "source": [
    "sql = '''\n",
    "CREATE TABLE `Invoice`\n",
    "(\n",
    "    `InvoiceId` INT NOT NULL DEFAULT 0,\n",
    "    `CustomerId` INT DEFAULT 0,\n",
    "    `InvoiceDate` DATETIME DEFAULT '1900-01-01',\n",
    "    `BillingAddress` NVARCHAR(70) DEFAULT 'None',\n",
    "    `BillingCity` NVARCHAR(40) DEFAULT 'None',\n",
    "    `BillingState` NVARCHAR(40) DEFAULT 'None',\n",
    "    `BillingCountry` NVARCHAR(40) DEFAULT 'None',\n",
    "    `BillingPostalCode` NVARCHAR(10) DEFAULT 'None',\n",
    "    `Total` NUMERIC(10,2) NOT NULL DEFAULT 0.00,\n",
    "    CONSTRAINT `PK_Invoice` PRIMARY KEY  (`InvoiceId`)\n",
    ")\n",
    "'''\n",
    "cursor.execute(sql)"
   ]
  },
  {
   "cell_type": "code",
   "execution_count": 52,
   "id": "d7bb1468-8894-4f72-960e-01d1e47be42d",
   "metadata": {},
   "outputs": [],
   "source": [
    "# populate the table\n",
    "\n",
    "sql = ( \"INSERT INTO Invoice \\n\"\n",
    "        + \"VALUES (%s, %s, %s, %s, %s,  %s, %s, %s, %s)\"\n",
    "        )\n",
    "\n",
    "\n",
    "first = True ## Skip the first row\n",
    "\n",
    "with open('db2_invoice.csv', newline='') as csv_file:\n",
    "    data = csv.reader(csv_file, delimiter=',', quotechar='\"')\n",
    "    \n",
    "    for row in data:\n",
    "        if not first:\n",
    "            #transform(row)\n",
    "            cursor.execute(sql, row)\n",
    "            \n",
    "        first = False\n",
    "    \n",
    "conn.commit()\n",
    "cursor.close()\n",
    "conn.close()"
   ]
  },
  {
   "cell_type": "markdown",
   "id": "a7a13a99-4d9e-48bf-b3c4-d15e5c2ff283",
   "metadata": {},
   "source": [
    "# 7 Table InvoiceLine"
   ]
  },
  {
   "cell_type": "code",
   "execution_count": 53,
   "id": "2233b429-056e-4d08-88d4-e7253c4662df",
   "metadata": {},
   "outputs": [
    {
     "data": {
      "text/plain": [
       "<mysql.connector.connection.MySQLConnection at 0x16c316fe0>"
      ]
     },
     "execution_count": 53,
     "metadata": {},
     "output_type": "execute_result"
    }
   ],
   "source": [
    "conn = make_connection(config_file = 'config_sjsu_daydayup_db.ini')\n",
    "cursor = conn.cursor()\n",
    "conn"
   ]
  },
  {
   "cell_type": "code",
   "execution_count": 54,
   "id": "bd849d99-3bbd-4a5a-a96c-d23b0c91bc07",
   "metadata": {},
   "outputs": [
    {
     "data": {
      "text/html": [
       "<div>\n",
       "<style scoped>\n",
       "    .dataframe tbody tr th:only-of-type {\n",
       "        vertical-align: middle;\n",
       "    }\n",
       "\n",
       "    .dataframe tbody tr th {\n",
       "        vertical-align: top;\n",
       "    }\n",
       "\n",
       "    .dataframe thead th {\n",
       "        text-align: right;\n",
       "    }\n",
       "</style>\n",
       "<table border=\"1\" class=\"dataframe\">\n",
       "  <thead>\n",
       "    <tr style=\"text-align: right;\">\n",
       "      <th></th>\n",
       "      <th>InvoiceLineId</th>\n",
       "      <th>InvoiceId</th>\n",
       "      <th>TrackId</th>\n",
       "      <th>UnitPrice</th>\n",
       "      <th>Quantity</th>\n",
       "    </tr>\n",
       "  </thead>\n",
       "  <tbody>\n",
       "    <tr>\n",
       "      <th>0</th>\n",
       "      <td>1</td>\n",
       "      <td>1</td>\n",
       "      <td>2</td>\n",
       "      <td>0.99</td>\n",
       "      <td>1</td>\n",
       "    </tr>\n",
       "    <tr>\n",
       "      <th>1</th>\n",
       "      <td>2</td>\n",
       "      <td>1</td>\n",
       "      <td>4</td>\n",
       "      <td>0.99</td>\n",
       "      <td>1</td>\n",
       "    </tr>\n",
       "    <tr>\n",
       "      <th>2</th>\n",
       "      <td>3</td>\n",
       "      <td>2</td>\n",
       "      <td>6</td>\n",
       "      <td>0.99</td>\n",
       "      <td>1</td>\n",
       "    </tr>\n",
       "    <tr>\n",
       "      <th>3</th>\n",
       "      <td>4</td>\n",
       "      <td>2</td>\n",
       "      <td>8</td>\n",
       "      <td>0.99</td>\n",
       "      <td>1</td>\n",
       "    </tr>\n",
       "    <tr>\n",
       "      <th>4</th>\n",
       "      <td>5</td>\n",
       "      <td>2</td>\n",
       "      <td>10</td>\n",
       "      <td>0.99</td>\n",
       "      <td>1</td>\n",
       "    </tr>\n",
       "    <tr>\n",
       "      <th>...</th>\n",
       "      <td>...</td>\n",
       "      <td>...</td>\n",
       "      <td>...</td>\n",
       "      <td>...</td>\n",
       "      <td>...</td>\n",
       "    </tr>\n",
       "    <tr>\n",
       "      <th>753</th>\n",
       "      <td>754</td>\n",
       "      <td>138</td>\n",
       "      <td>1094</td>\n",
       "      <td>0.99</td>\n",
       "      <td>1</td>\n",
       "    </tr>\n",
       "    <tr>\n",
       "      <th>754</th>\n",
       "      <td>755</td>\n",
       "      <td>138</td>\n",
       "      <td>1103</td>\n",
       "      <td>0.99</td>\n",
       "      <td>1</td>\n",
       "    </tr>\n",
       "    <tr>\n",
       "      <th>755</th>\n",
       "      <td>756</td>\n",
       "      <td>138</td>\n",
       "      <td>1112</td>\n",
       "      <td>0.99</td>\n",
       "      <td>1</td>\n",
       "    </tr>\n",
       "    <tr>\n",
       "      <th>756</th>\n",
       "      <td>757</td>\n",
       "      <td>138</td>\n",
       "      <td>1121</td>\n",
       "      <td>0.99</td>\n",
       "      <td>1</td>\n",
       "    </tr>\n",
       "    <tr>\n",
       "      <th>757</th>\n",
       "      <td>758</td>\n",
       "      <td>139</td>\n",
       "      <td>1135</td>\n",
       "      <td>0.99</td>\n",
       "      <td>1</td>\n",
       "    </tr>\n",
       "  </tbody>\n",
       "</table>\n",
       "<p>758 rows × 5 columns</p>\n",
       "</div>"
      ],
      "text/plain": [
       "     InvoiceLineId  InvoiceId  TrackId  UnitPrice  Quantity\n",
       "0                1          1        2       0.99         1\n",
       "1                2          1        4       0.99         1\n",
       "2                3          2        6       0.99         1\n",
       "3                4          2        8       0.99         1\n",
       "4                5          2       10       0.99         1\n",
       "..             ...        ...      ...        ...       ...\n",
       "753            754        138     1094       0.99         1\n",
       "754            755        138     1103       0.99         1\n",
       "755            756        138     1112       0.99         1\n",
       "756            757        138     1121       0.99         1\n",
       "757            758        139     1135       0.99         1\n",
       "\n",
       "[758 rows x 5 columns]"
      ]
     },
     "execution_count": 54,
     "metadata": {},
     "output_type": "execute_result"
    }
   ],
   "source": [
    "df_il = pd.read_sql(\"select * from InvoiceLine\", conn)\n",
    "df_il"
   ]
  },
  {
   "cell_type": "code",
   "execution_count": 55,
   "id": "bf2d4997-8654-432d-a280-a0fafa30c640",
   "metadata": {},
   "outputs": [
    {
     "data": {
      "text/plain": [
       "InvoiceLineId    0\n",
       "InvoiceId        0\n",
       "TrackId          0\n",
       "UnitPrice        0\n",
       "Quantity         0\n",
       "dtype: int64"
      ]
     },
     "execution_count": 55,
     "metadata": {},
     "output_type": "execute_result"
    }
   ],
   "source": [
    "df_il.isnull().sum()"
   ]
  },
  {
   "cell_type": "code",
   "execution_count": 56,
   "id": "1872f843-d2ab-4988-ad63-525e372591e6",
   "metadata": {},
   "outputs": [
    {
     "data": {
      "text/plain": [
       "Index(['InvoiceLineId', 'InvoiceId', 'TrackId', 'UnitPrice', 'Quantity'], dtype='object')"
      ]
     },
     "execution_count": 56,
     "metadata": {},
     "output_type": "execute_result"
    }
   ],
   "source": [
    "df_il.columns"
   ]
  },
  {
   "cell_type": "code",
   "execution_count": 57,
   "id": "ad4503b6-c596-40d4-9a5f-a3b9e6895a01",
   "metadata": {},
   "outputs": [],
   "source": [
    "df_il = df_il[['InvoiceLineId', 'InvoiceId', 'TrackId', 'UnitPrice']]"
   ]
  },
  {
   "cell_type": "code",
   "execution_count": 58,
   "id": "d51352f9-8aa0-4cef-ba0f-ac474b8cc2f6",
   "metadata": {},
   "outputs": [],
   "source": [
    "df_il.to_csv(\"db2_il.csv\", index=False)\n",
    "cursor.close()\n",
    "conn.close()"
   ]
  },
  {
   "cell_type": "code",
   "execution_count": 59,
   "id": "f3173111-7f6d-4db3-ad89-677a2f91d619",
   "metadata": {},
   "outputs": [
    {
     "data": {
      "text/plain": [
       "<mysql.connector.connection.MySQLConnection at 0x16c316920>"
      ]
     },
     "execution_count": 59,
     "metadata": {},
     "output_type": "execute_result"
    }
   ],
   "source": [
    "## Create and import data for table genre: db2\n",
    "conn = make_connection(config_file = 'config_sjsu_daydayup_db2.ini')\n",
    "cursor = conn.cursor()\n",
    "conn"
   ]
  },
  {
   "cell_type": "code",
   "execution_count": 60,
   "id": "1b91890a-8561-41b8-82e2-70fbfafced4b",
   "metadata": {},
   "outputs": [],
   "source": [
    "## Create the table\n",
    "sql = '''\n",
    "CREATE TABLE `InvoiceLine`\n",
    "(\n",
    "    `InvoiceLineId` INT NOT NULL DEFAULT 0,\n",
    "    `InvoiceId` INT  DEFAULT 0 ,\n",
    "    `TrackId` INT DEFAULT 0,\n",
    "    `UnitPrice` NUMERIC(10,2) DEFAULT 0.00,\n",
    "    CONSTRAINT `PK_InvoiceLine` PRIMARY KEY  (`InvoiceLineId`)\n",
    ")\n",
    "'''\n",
    "cursor.execute(sql)"
   ]
  },
  {
   "cell_type": "code",
   "execution_count": 61,
   "id": "0148a9d1-07d9-4f3f-a21b-3dd644417259",
   "metadata": {},
   "outputs": [],
   "source": [
    "# populate the table\n",
    "\n",
    "sql = ( \"INSERT INTO InvoiceLine \\n\"\n",
    "        + \"VALUES (%s, %s, %s, %s)\"\n",
    "        )\n",
    "\n",
    "\n",
    "first = True ## Skip the first row\n",
    "\n",
    "with open('db2_il.csv', newline='') as csv_file:\n",
    "    data = csv.reader(csv_file, delimiter=',', quotechar='\"')\n",
    "    \n",
    "    for row in data:\n",
    "        if not first:\n",
    "            #transform(row)\n",
    "            cursor.execute(sql, row)\n",
    "            \n",
    "        first = False\n",
    "    \n",
    "conn.commit()\n",
    "cursor.close()\n",
    "conn.close()"
   ]
  },
  {
   "cell_type": "markdown",
   "id": "d9b1d548-acae-4b2f-b559-f59a1c2fe143",
   "metadata": {},
   "source": [
    "# 8 Table MediaType"
   ]
  },
  {
   "cell_type": "code",
   "execution_count": 62,
   "id": "ece50063-6789-4c63-a93a-75d1713068da",
   "metadata": {},
   "outputs": [
    {
     "data": {
      "text/plain": [
       "<mysql.connector.connection.MySQLConnection at 0x16c317250>"
      ]
     },
     "execution_count": 62,
     "metadata": {},
     "output_type": "execute_result"
    }
   ],
   "source": [
    "conn = make_connection(config_file = 'config_sjsu_daydayup_db.ini')\n",
    "cursor = conn.cursor()\n",
    "conn"
   ]
  },
  {
   "cell_type": "code",
   "execution_count": 63,
   "id": "88810d50-da14-4e3c-91e1-995a63da09aa",
   "metadata": {},
   "outputs": [
    {
     "data": {
      "text/html": [
       "<div>\n",
       "<style scoped>\n",
       "    .dataframe tbody tr th:only-of-type {\n",
       "        vertical-align: middle;\n",
       "    }\n",
       "\n",
       "    .dataframe tbody tr th {\n",
       "        vertical-align: top;\n",
       "    }\n",
       "\n",
       "    .dataframe thead th {\n",
       "        text-align: right;\n",
       "    }\n",
       "</style>\n",
       "<table border=\"1\" class=\"dataframe\">\n",
       "  <thead>\n",
       "    <tr style=\"text-align: right;\">\n",
       "      <th></th>\n",
       "      <th>MediaTypeId</th>\n",
       "      <th>Name</th>\n",
       "    </tr>\n",
       "  </thead>\n",
       "  <tbody>\n",
       "    <tr>\n",
       "      <th>0</th>\n",
       "      <td>1</td>\n",
       "      <td>MPEG audio file</td>\n",
       "    </tr>\n",
       "    <tr>\n",
       "      <th>1</th>\n",
       "      <td>2</td>\n",
       "      <td>Protected AAC audio file</td>\n",
       "    </tr>\n",
       "    <tr>\n",
       "      <th>2</th>\n",
       "      <td>3</td>\n",
       "      <td>Protected MPEG-4 video file</td>\n",
       "    </tr>\n",
       "    <tr>\n",
       "      <th>3</th>\n",
       "      <td>4</td>\n",
       "      <td>Purchased AAC audio file</td>\n",
       "    </tr>\n",
       "    <tr>\n",
       "      <th>4</th>\n",
       "      <td>5</td>\n",
       "      <td>AAC audio file</td>\n",
       "    </tr>\n",
       "  </tbody>\n",
       "</table>\n",
       "</div>"
      ],
      "text/plain": [
       "   MediaTypeId                         Name\n",
       "0            1              MPEG audio file\n",
       "1            2     Protected AAC audio file\n",
       "2            3  Protected MPEG-4 video file\n",
       "3            4     Purchased AAC audio file\n",
       "4            5               AAC audio file"
      ]
     },
     "execution_count": 63,
     "metadata": {},
     "output_type": "execute_result"
    }
   ],
   "source": [
    "df_mt = pd.read_sql(\"select * from MediaType\", conn)\n",
    "df_mt"
   ]
  },
  {
   "cell_type": "code",
   "execution_count": 64,
   "id": "afea770f-c4bc-49ca-91e3-ef09b88eb6a3",
   "metadata": {},
   "outputs": [
    {
     "data": {
      "text/plain": [
       "MediaTypeId    0\n",
       "Name           0\n",
       "dtype: int64"
      ]
     },
     "execution_count": 64,
     "metadata": {},
     "output_type": "execute_result"
    }
   ],
   "source": [
    "df_mt.isnull().sum()"
   ]
  },
  {
   "cell_type": "code",
   "execution_count": 65,
   "id": "c16b2026-a73c-442b-af39-9f388251170d",
   "metadata": {},
   "outputs": [],
   "source": [
    "df_mt.to_csv(\"db2_mt.csv\", index=False)\n",
    "cursor.close()\n",
    "conn.close()"
   ]
  },
  {
   "cell_type": "code",
   "execution_count": 66,
   "id": "bd2b452f-a141-4fdb-bf36-53862f22f871",
   "metadata": {},
   "outputs": [
    {
     "data": {
      "text/plain": [
       "<mysql.connector.connection.MySQLConnection at 0x16c315360>"
      ]
     },
     "execution_count": 66,
     "metadata": {},
     "output_type": "execute_result"
    }
   ],
   "source": [
    "## Create and import data for table genre: db2\n",
    "conn = make_connection(config_file = 'config_sjsu_daydayup_db2.ini')\n",
    "cursor = conn.cursor()\n",
    "conn"
   ]
  },
  {
   "cell_type": "code",
   "execution_count": 67,
   "id": "6b6ed53c-0786-49ff-9739-7030f284ecbd",
   "metadata": {},
   "outputs": [],
   "source": [
    "## Create the table\n",
    "sql = '''\n",
    "CREATE TABLE `MediaType`\n",
    "(\n",
    "    `MediaTypeId` INT NOT NULL DEFAULT 0,\n",
    "    `Name` NVARCHAR(120) DEFAULT 'None',\n",
    "    CONSTRAINT `PK_MediaType` PRIMARY KEY  (`MediaTypeId`)\n",
    ");\n",
    "\n",
    "'''\n",
    "cursor.execute(sql)"
   ]
  },
  {
   "cell_type": "code",
   "execution_count": 68,
   "id": "b4119cb2-2de1-496a-85c2-9c6220f3fca0",
   "metadata": {},
   "outputs": [],
   "source": [
    "# populate the table\n",
    "sql = ( \"INSERT INTO MediaType \\n\"\n",
    "        + \"VALUES (%s, %s)\"\n",
    "        )\n",
    "\n",
    "\n",
    "first = True ## Skip the first row\n",
    "\n",
    "with open('db2_mt.csv', newline='') as csv_file:\n",
    "    data = csv.reader(csv_file, delimiter=',', quotechar='\"')\n",
    "    \n",
    "    for row in data:\n",
    "        if not first:\n",
    "            #transform(row)\n",
    "            cursor.execute(sql, row)\n",
    "            \n",
    "        first = False\n",
    "    \n",
    "conn.commit()\n",
    "cursor.close()\n",
    "conn.close()"
   ]
  },
  {
   "cell_type": "markdown",
   "id": "3294ade7-d839-4653-a94f-d9294de89faa",
   "metadata": {},
   "source": [
    "# 9 Table Playlist"
   ]
  },
  {
   "cell_type": "code",
   "execution_count": 69,
   "id": "5f603553-8ae0-405c-aabd-02bdd92f1ac7",
   "metadata": {},
   "outputs": [
    {
     "data": {
      "text/plain": [
       "<mysql.connector.connection.MySQLConnection at 0x16c316cb0>"
      ]
     },
     "execution_count": 69,
     "metadata": {},
     "output_type": "execute_result"
    }
   ],
   "source": [
    "conn = make_connection(config_file = 'config_sjsu_daydayup_db.ini')\n",
    "cursor = conn.cursor()\n",
    "conn"
   ]
  },
  {
   "cell_type": "code",
   "execution_count": 70,
   "id": "0f1bfb86-2ec9-4672-aee2-303384b53d16",
   "metadata": {},
   "outputs": [
    {
     "data": {
      "text/html": [
       "<div>\n",
       "<style scoped>\n",
       "    .dataframe tbody tr th:only-of-type {\n",
       "        vertical-align: middle;\n",
       "    }\n",
       "\n",
       "    .dataframe tbody tr th {\n",
       "        vertical-align: top;\n",
       "    }\n",
       "\n",
       "    .dataframe thead th {\n",
       "        text-align: right;\n",
       "    }\n",
       "</style>\n",
       "<table border=\"1\" class=\"dataframe\">\n",
       "  <thead>\n",
       "    <tr style=\"text-align: right;\">\n",
       "      <th></th>\n",
       "      <th>PlaylistId</th>\n",
       "      <th>Name</th>\n",
       "    </tr>\n",
       "  </thead>\n",
       "  <tbody>\n",
       "    <tr>\n",
       "      <th>0</th>\n",
       "      <td>1</td>\n",
       "      <td>Music</td>\n",
       "    </tr>\n",
       "    <tr>\n",
       "      <th>1</th>\n",
       "      <td>2</td>\n",
       "      <td>Movies</td>\n",
       "    </tr>\n",
       "    <tr>\n",
       "      <th>2</th>\n",
       "      <td>3</td>\n",
       "      <td>TV Shows</td>\n",
       "    </tr>\n",
       "    <tr>\n",
       "      <th>3</th>\n",
       "      <td>4</td>\n",
       "      <td>Audiobooks</td>\n",
       "    </tr>\n",
       "    <tr>\n",
       "      <th>4</th>\n",
       "      <td>5</td>\n",
       "      <td>90’s Music</td>\n",
       "    </tr>\n",
       "    <tr>\n",
       "      <th>5</th>\n",
       "      <td>6</td>\n",
       "      <td>Audiobooks</td>\n",
       "    </tr>\n",
       "    <tr>\n",
       "      <th>6</th>\n",
       "      <td>7</td>\n",
       "      <td>Movies</td>\n",
       "    </tr>\n",
       "    <tr>\n",
       "      <th>7</th>\n",
       "      <td>8</td>\n",
       "      <td>Music</td>\n",
       "    </tr>\n",
       "    <tr>\n",
       "      <th>8</th>\n",
       "      <td>9</td>\n",
       "      <td>Music Videos</td>\n",
       "    </tr>\n",
       "    <tr>\n",
       "      <th>9</th>\n",
       "      <td>10</td>\n",
       "      <td>TV Shows</td>\n",
       "    </tr>\n",
       "    <tr>\n",
       "      <th>10</th>\n",
       "      <td>11</td>\n",
       "      <td>Brazilian Music</td>\n",
       "    </tr>\n",
       "    <tr>\n",
       "      <th>11</th>\n",
       "      <td>12</td>\n",
       "      <td>Classical</td>\n",
       "    </tr>\n",
       "    <tr>\n",
       "      <th>12</th>\n",
       "      <td>13</td>\n",
       "      <td>Classical 101 - Deep Cuts</td>\n",
       "    </tr>\n",
       "    <tr>\n",
       "      <th>13</th>\n",
       "      <td>14</td>\n",
       "      <td>Classical 101 - Next Steps</td>\n",
       "    </tr>\n",
       "    <tr>\n",
       "      <th>14</th>\n",
       "      <td>15</td>\n",
       "      <td>Classical 101 - The Basics</td>\n",
       "    </tr>\n",
       "    <tr>\n",
       "      <th>15</th>\n",
       "      <td>16</td>\n",
       "      <td>Grunge</td>\n",
       "    </tr>\n",
       "    <tr>\n",
       "      <th>16</th>\n",
       "      <td>17</td>\n",
       "      <td>Heavy Metal Classic</td>\n",
       "    </tr>\n",
       "    <tr>\n",
       "      <th>17</th>\n",
       "      <td>18</td>\n",
       "      <td>On-The-Go 1</td>\n",
       "    </tr>\n",
       "  </tbody>\n",
       "</table>\n",
       "</div>"
      ],
      "text/plain": [
       "    PlaylistId                        Name\n",
       "0            1                       Music\n",
       "1            2                      Movies\n",
       "2            3                    TV Shows\n",
       "3            4                  Audiobooks\n",
       "4            5                  90’s Music\n",
       "5            6                  Audiobooks\n",
       "6            7                      Movies\n",
       "7            8                       Music\n",
       "8            9                Music Videos\n",
       "9           10                    TV Shows\n",
       "10          11             Brazilian Music\n",
       "11          12                   Classical\n",
       "12          13   Classical 101 - Deep Cuts\n",
       "13          14  Classical 101 - Next Steps\n",
       "14          15  Classical 101 - The Basics\n",
       "15          16                      Grunge\n",
       "16          17         Heavy Metal Classic\n",
       "17          18                 On-The-Go 1"
      ]
     },
     "execution_count": 70,
     "metadata": {},
     "output_type": "execute_result"
    }
   ],
   "source": [
    "df_pl = pd.read_sql(\"select * from Playlist\", conn)\n",
    "df_pl"
   ]
  },
  {
   "cell_type": "code",
   "execution_count": 71,
   "id": "164467ff-8777-41d1-ac52-23608854c55a",
   "metadata": {},
   "outputs": [
    {
     "data": {
      "text/plain": [
       "PlaylistId    0\n",
       "Name          0\n",
       "dtype: int64"
      ]
     },
     "execution_count": 71,
     "metadata": {},
     "output_type": "execute_result"
    }
   ],
   "source": [
    "df_pl.isnull().sum()"
   ]
  },
  {
   "cell_type": "code",
   "execution_count": 72,
   "id": "7b6f9476-650b-48c1-9307-e28264daed4a",
   "metadata": {},
   "outputs": [
    {
     "data": {
      "text/html": [
       "<div>\n",
       "<style scoped>\n",
       "    .dataframe tbody tr th:only-of-type {\n",
       "        vertical-align: middle;\n",
       "    }\n",
       "\n",
       "    .dataframe tbody tr th {\n",
       "        vertical-align: top;\n",
       "    }\n",
       "\n",
       "    .dataframe thead th {\n",
       "        text-align: right;\n",
       "    }\n",
       "</style>\n",
       "<table border=\"1\" class=\"dataframe\">\n",
       "  <thead>\n",
       "    <tr style=\"text-align: right;\">\n",
       "      <th></th>\n",
       "      <th>PlaylistId</th>\n",
       "      <th>Name</th>\n",
       "      <th>CustomerId</th>\n",
       "    </tr>\n",
       "  </thead>\n",
       "  <tbody>\n",
       "    <tr>\n",
       "      <th>0</th>\n",
       "      <td>1</td>\n",
       "      <td>Music</td>\n",
       "      <td>9</td>\n",
       "    </tr>\n",
       "    <tr>\n",
       "      <th>1</th>\n",
       "      <td>2</td>\n",
       "      <td>Movies</td>\n",
       "      <td>37</td>\n",
       "    </tr>\n",
       "    <tr>\n",
       "      <th>2</th>\n",
       "      <td>3</td>\n",
       "      <td>TV Shows</td>\n",
       "      <td>55</td>\n",
       "    </tr>\n",
       "    <tr>\n",
       "      <th>3</th>\n",
       "      <td>4</td>\n",
       "      <td>Audiobooks</td>\n",
       "      <td>52</td>\n",
       "    </tr>\n",
       "    <tr>\n",
       "      <th>4</th>\n",
       "      <td>5</td>\n",
       "      <td>90’s Music</td>\n",
       "      <td>49</td>\n",
       "    </tr>\n",
       "    <tr>\n",
       "      <th>5</th>\n",
       "      <td>6</td>\n",
       "      <td>Audiobooks</td>\n",
       "      <td>5</td>\n",
       "    </tr>\n",
       "    <tr>\n",
       "      <th>6</th>\n",
       "      <td>7</td>\n",
       "      <td>Movies</td>\n",
       "      <td>17</td>\n",
       "    </tr>\n",
       "    <tr>\n",
       "      <th>7</th>\n",
       "      <td>8</td>\n",
       "      <td>Music</td>\n",
       "      <td>8</td>\n",
       "    </tr>\n",
       "    <tr>\n",
       "      <th>8</th>\n",
       "      <td>9</td>\n",
       "      <td>Music Videos</td>\n",
       "      <td>32</td>\n",
       "    </tr>\n",
       "    <tr>\n",
       "      <th>9</th>\n",
       "      <td>10</td>\n",
       "      <td>TV Shows</td>\n",
       "      <td>49</td>\n",
       "    </tr>\n",
       "    <tr>\n",
       "      <th>10</th>\n",
       "      <td>11</td>\n",
       "      <td>Brazilian Music</td>\n",
       "      <td>29</td>\n",
       "    </tr>\n",
       "    <tr>\n",
       "      <th>11</th>\n",
       "      <td>12</td>\n",
       "      <td>Classical</td>\n",
       "      <td>31</td>\n",
       "    </tr>\n",
       "    <tr>\n",
       "      <th>12</th>\n",
       "      <td>13</td>\n",
       "      <td>Classical 101 - Deep Cuts</td>\n",
       "      <td>42</td>\n",
       "    </tr>\n",
       "    <tr>\n",
       "      <th>13</th>\n",
       "      <td>14</td>\n",
       "      <td>Classical 101 - Next Steps</td>\n",
       "      <td>25</td>\n",
       "    </tr>\n",
       "    <tr>\n",
       "      <th>14</th>\n",
       "      <td>15</td>\n",
       "      <td>Classical 101 - The Basics</td>\n",
       "      <td>51</td>\n",
       "    </tr>\n",
       "    <tr>\n",
       "      <th>15</th>\n",
       "      <td>16</td>\n",
       "      <td>Grunge</td>\n",
       "      <td>14</td>\n",
       "    </tr>\n",
       "    <tr>\n",
       "      <th>16</th>\n",
       "      <td>17</td>\n",
       "      <td>Heavy Metal Classic</td>\n",
       "      <td>7</td>\n",
       "    </tr>\n",
       "    <tr>\n",
       "      <th>17</th>\n",
       "      <td>18</td>\n",
       "      <td>On-The-Go 1</td>\n",
       "      <td>32</td>\n",
       "    </tr>\n",
       "  </tbody>\n",
       "</table>\n",
       "</div>"
      ],
      "text/plain": [
       "    PlaylistId                        Name  CustomerId\n",
       "0            1                       Music           9\n",
       "1            2                      Movies          37\n",
       "2            3                    TV Shows          55\n",
       "3            4                  Audiobooks          52\n",
       "4            5                  90’s Music          49\n",
       "5            6                  Audiobooks           5\n",
       "6            7                      Movies          17\n",
       "7            8                       Music           8\n",
       "8            9                Music Videos          32\n",
       "9           10                    TV Shows          49\n",
       "10          11             Brazilian Music          29\n",
       "11          12                   Classical          31\n",
       "12          13   Classical 101 - Deep Cuts          42\n",
       "13          14  Classical 101 - Next Steps          25\n",
       "14          15  Classical 101 - The Basics          51\n",
       "15          16                      Grunge          14\n",
       "16          17         Heavy Metal Classic           7\n",
       "17          18                 On-The-Go 1          32"
      ]
     },
     "execution_count": 72,
     "metadata": {},
     "output_type": "execute_result"
    }
   ],
   "source": [
    "## Adding Customer info\n",
    "import random\n",
    "random.seed(1)\n",
    "df_pl['CustomerId'] = [random.randint(1, 58) for _ in range(18)]\n",
    "df_pl"
   ]
  },
  {
   "cell_type": "code",
   "execution_count": 73,
   "id": "80137cb3-1f98-4ede-a343-c3fab3277687",
   "metadata": {},
   "outputs": [],
   "source": [
    "df_pl.to_csv(\"db2_pl.csv\", index=False)\n",
    "cursor.close()\n",
    "conn.close()"
   ]
  },
  {
   "cell_type": "code",
   "execution_count": 74,
   "id": "2a6ea11f-7949-48be-aff3-db287cc67ed5",
   "metadata": {},
   "outputs": [
    {
     "data": {
      "text/plain": [
       "<mysql.connector.connection.MySQLConnection at 0x16c39ce20>"
      ]
     },
     "execution_count": 74,
     "metadata": {},
     "output_type": "execute_result"
    }
   ],
   "source": [
    "## Create and import data for table Playlist: db2\n",
    "conn = make_connection(config_file = 'config_sjsu_daydayup_db2.ini')\n",
    "cursor = conn.cursor()\n",
    "conn"
   ]
  },
  {
   "cell_type": "code",
   "execution_count": 75,
   "id": "38b09122-83f2-4b76-bb79-f4c095eff72d",
   "metadata": {},
   "outputs": [],
   "source": [
    "## Create the table\n",
    "sql = '''\n",
    "CREATE TABLE `Playlist`\n",
    "(\n",
    "    `PlaylistId` INT NOT NULL DEFAULT 0,\n",
    "    `Name` NVARCHAR(120) DEFAULT 'None',\n",
    "    `CustomerId` INT DEFAULT 0,\n",
    "    CONSTRAINT `PK_Playlist` PRIMARY KEY  (`PlaylistId`),\n",
    "    FOREIGN KEY (CustomerId) REFERENCES Customer(CustomerId)\n",
    ");\n",
    "\n",
    "'''\n",
    "cursor.execute(sql)"
   ]
  },
  {
   "cell_type": "code",
   "execution_count": 76,
   "id": "85d461bf-8dba-40b7-9c93-88c450e427a2",
   "metadata": {},
   "outputs": [],
   "source": [
    "## Populate the table\n",
    "\n",
    "sql = ( \"INSERT INTO Playlist \\n\"\n",
    "        + \"VALUES (%s, %s, %s)\"\n",
    "        )\n",
    "\n",
    "\n",
    "first = True ## Skip the first row\n",
    "\n",
    "with open('db2_pl.csv', newline='') as csv_file:\n",
    "    data = csv.reader(csv_file, delimiter=',', quotechar='\"')\n",
    "    \n",
    "    for row in data:\n",
    "        if not first:\n",
    "            #transform(row)\n",
    "            cursor.execute(sql, row)\n",
    "            \n",
    "        first = False\n",
    "    \n",
    "conn.commit()\n",
    "cursor.close()\n",
    "conn.close()"
   ]
  },
  {
   "cell_type": "markdown",
   "id": "bdc10531-43ea-450c-a154-4ad7d4025ec3",
   "metadata": {},
   "source": [
    "# 10 Table PlaylistTrack"
   ]
  },
  {
   "cell_type": "code",
   "execution_count": 77,
   "id": "d2deadd7-5ef3-4077-b58e-a72abdd54855",
   "metadata": {},
   "outputs": [
    {
     "data": {
      "text/plain": [
       "<mysql.connector.connection.MySQLConnection at 0x16c39f5b0>"
      ]
     },
     "execution_count": 77,
     "metadata": {},
     "output_type": "execute_result"
    }
   ],
   "source": [
    "conn = make_connection(config_file = 'config_sjsu_daydayup_db.ini')\n",
    "cursor = conn.cursor()\n",
    "conn"
   ]
  },
  {
   "cell_type": "code",
   "execution_count": 78,
   "id": "43f103fb-a3c3-48c7-8e30-13979c63ca17",
   "metadata": {},
   "outputs": [
    {
     "data": {
      "text/html": [
       "<div>\n",
       "<style scoped>\n",
       "    .dataframe tbody tr th:only-of-type {\n",
       "        vertical-align: middle;\n",
       "    }\n",
       "\n",
       "    .dataframe tbody tr th {\n",
       "        vertical-align: top;\n",
       "    }\n",
       "\n",
       "    .dataframe thead th {\n",
       "        text-align: right;\n",
       "    }\n",
       "</style>\n",
       "<table border=\"1\" class=\"dataframe\">\n",
       "  <thead>\n",
       "    <tr style=\"text-align: right;\">\n",
       "      <th></th>\n",
       "      <th>PlaylistId</th>\n",
       "      <th>TrackId</th>\n",
       "      <th>AddingDate</th>\n",
       "    </tr>\n",
       "  </thead>\n",
       "  <tbody>\n",
       "    <tr>\n",
       "      <th>0</th>\n",
       "      <td>1</td>\n",
       "      <td>1</td>\n",
       "      <td>2013-08-03</td>\n",
       "    </tr>\n",
       "    <tr>\n",
       "      <th>1</th>\n",
       "      <td>1</td>\n",
       "      <td>2</td>\n",
       "      <td>2011-05-19</td>\n",
       "    </tr>\n",
       "    <tr>\n",
       "      <th>2</th>\n",
       "      <td>1</td>\n",
       "      <td>3</td>\n",
       "      <td>2011-08-20</td>\n",
       "    </tr>\n",
       "    <tr>\n",
       "      <th>3</th>\n",
       "      <td>1</td>\n",
       "      <td>4</td>\n",
       "      <td>2011-07-07</td>\n",
       "    </tr>\n",
       "    <tr>\n",
       "      <th>4</th>\n",
       "      <td>1</td>\n",
       "      <td>5</td>\n",
       "      <td>2009-02-02</td>\n",
       "    </tr>\n",
       "    <tr>\n",
       "      <th>...</th>\n",
       "      <td>...</td>\n",
       "      <td>...</td>\n",
       "      <td>...</td>\n",
       "    </tr>\n",
       "    <tr>\n",
       "      <th>8710</th>\n",
       "      <td>17</td>\n",
       "      <td>2094</td>\n",
       "      <td>2010-01-26</td>\n",
       "    </tr>\n",
       "    <tr>\n",
       "      <th>8711</th>\n",
       "      <td>17</td>\n",
       "      <td>2095</td>\n",
       "      <td>2009-03-06</td>\n",
       "    </tr>\n",
       "    <tr>\n",
       "      <th>8712</th>\n",
       "      <td>17</td>\n",
       "      <td>2096</td>\n",
       "      <td>2010-02-10</td>\n",
       "    </tr>\n",
       "    <tr>\n",
       "      <th>8713</th>\n",
       "      <td>17</td>\n",
       "      <td>3290</td>\n",
       "      <td>2011-10-23</td>\n",
       "    </tr>\n",
       "    <tr>\n",
       "      <th>8714</th>\n",
       "      <td>18</td>\n",
       "      <td>597</td>\n",
       "      <td>2010-11-14</td>\n",
       "    </tr>\n",
       "  </tbody>\n",
       "</table>\n",
       "<p>8715 rows × 3 columns</p>\n",
       "</div>"
      ],
      "text/plain": [
       "      PlaylistId  TrackId  AddingDate\n",
       "0              1        1  2013-08-03\n",
       "1              1        2  2011-05-19\n",
       "2              1        3  2011-08-20\n",
       "3              1        4  2011-07-07\n",
       "4              1        5  2009-02-02\n",
       "...          ...      ...         ...\n",
       "8710          17     2094  2010-01-26\n",
       "8711          17     2095  2009-03-06\n",
       "8712          17     2096  2010-02-10\n",
       "8713          17     3290  2011-10-23\n",
       "8714          18      597  2010-11-14\n",
       "\n",
       "[8715 rows x 3 columns]"
      ]
     },
     "execution_count": 78,
     "metadata": {},
     "output_type": "execute_result"
    }
   ],
   "source": [
    "df_pt = pd.read_sql(\"select * from PlaylistTrack\", conn)\n",
    "df_pt"
   ]
  },
  {
   "cell_type": "code",
   "execution_count": 79,
   "id": "13852d6e-7924-4c4f-9e33-54552926510e",
   "metadata": {},
   "outputs": [
    {
     "data": {
      "text/plain": [
       "PlaylistId    0\n",
       "TrackId       0\n",
       "AddingDate    0\n",
       "dtype: int64"
      ]
     },
     "execution_count": 79,
     "metadata": {},
     "output_type": "execute_result"
    }
   ],
   "source": [
    "df_pt.isnull().sum()"
   ]
  },
  {
   "cell_type": "code",
   "execution_count": 80,
   "id": "43eecb49-e9eb-4123-8ff6-131a4fd9f5de",
   "metadata": {},
   "outputs": [
    {
     "data": {
      "text/html": [
       "<div>\n",
       "<style scoped>\n",
       "    .dataframe tbody tr th:only-of-type {\n",
       "        vertical-align: middle;\n",
       "    }\n",
       "\n",
       "    .dataframe tbody tr th {\n",
       "        vertical-align: top;\n",
       "    }\n",
       "\n",
       "    .dataframe thead th {\n",
       "        text-align: right;\n",
       "    }\n",
       "</style>\n",
       "<table border=\"1\" class=\"dataframe\">\n",
       "  <thead>\n",
       "    <tr style=\"text-align: right;\">\n",
       "      <th></th>\n",
       "      <th>TimeKey</th>\n",
       "      <th>PurchaseDate</th>\n",
       "      <th>DayOfWeek</th>\n",
       "      <th>Month</th>\n",
       "      <th>Quarter</th>\n",
       "      <th>Year</th>\n",
       "    </tr>\n",
       "  </thead>\n",
       "  <tbody>\n",
       "    <tr>\n",
       "      <th>0</th>\n",
       "      <td>1</td>\n",
       "      <td>2009-01-01</td>\n",
       "      <td>4</td>\n",
       "      <td>1</td>\n",
       "      <td>1</td>\n",
       "      <td>2009</td>\n",
       "    </tr>\n",
       "    <tr>\n",
       "      <th>1</th>\n",
       "      <td>2</td>\n",
       "      <td>2009-01-02</td>\n",
       "      <td>5</td>\n",
       "      <td>1</td>\n",
       "      <td>1</td>\n",
       "      <td>2009</td>\n",
       "    </tr>\n",
       "    <tr>\n",
       "      <th>2</th>\n",
       "      <td>3</td>\n",
       "      <td>2009-01-03</td>\n",
       "      <td>6</td>\n",
       "      <td>1</td>\n",
       "      <td>1</td>\n",
       "      <td>2009</td>\n",
       "    </tr>\n",
       "    <tr>\n",
       "      <th>3</th>\n",
       "      <td>4</td>\n",
       "      <td>2009-01-06</td>\n",
       "      <td>2</td>\n",
       "      <td>1</td>\n",
       "      <td>1</td>\n",
       "      <td>2009</td>\n",
       "    </tr>\n",
       "    <tr>\n",
       "      <th>4</th>\n",
       "      <td>5</td>\n",
       "      <td>2009-01-11</td>\n",
       "      <td>7</td>\n",
       "      <td>1</td>\n",
       "      <td>1</td>\n",
       "      <td>2009</td>\n",
       "    </tr>\n",
       "  </tbody>\n",
       "</table>\n",
       "</div>"
      ],
      "text/plain": [
       "   TimeKey PurchaseDate  DayOfWeek  Month  Quarter  Year\n",
       "0        1   2009-01-01          4      1        1  2009\n",
       "1        2   2009-01-02          5      1        1  2009\n",
       "2        3   2009-01-03          6      1        1  2009\n",
       "3        4   2009-01-06          2      1        1  2009\n",
       "4        5   2009-01-11          7      1        1  2009"
      ]
     },
     "execution_count": 80,
     "metadata": {},
     "output_type": "execute_result"
    }
   ],
   "source": [
    "## Add new field \"AddingDate\"\n",
    "import pandas as pd\n",
    "df_addingday_source = pd.read_csv(\"AddingDate_source.csv\")\n",
    "df_addingday_source.head()"
   ]
  },
  {
   "cell_type": "code",
   "execution_count": 81,
   "id": "f7a67d4b-8138-4dfc-a199-a823ffc0d3fe",
   "metadata": {},
   "outputs": [],
   "source": [
    "import random\n",
    "random.seed(1)\n",
    "df_pt['AddingDate'] = [ random.choice(df_addingday_source.PurchaseDate) for _ in range(8715)]"
   ]
  },
  {
   "cell_type": "code",
   "execution_count": 82,
   "id": "3bb53370-fb29-4821-8f4e-1b52e0b384b0",
   "metadata": {},
   "outputs": [
    {
     "data": {
      "text/html": [
       "<div>\n",
       "<style scoped>\n",
       "    .dataframe tbody tr th:only-of-type {\n",
       "        vertical-align: middle;\n",
       "    }\n",
       "\n",
       "    .dataframe tbody tr th {\n",
       "        vertical-align: top;\n",
       "    }\n",
       "\n",
       "    .dataframe thead th {\n",
       "        text-align: right;\n",
       "    }\n",
       "</style>\n",
       "<table border=\"1\" class=\"dataframe\">\n",
       "  <thead>\n",
       "    <tr style=\"text-align: right;\">\n",
       "      <th></th>\n",
       "      <th>PlaylistId</th>\n",
       "      <th>TrackId</th>\n",
       "      <th>AddingDate</th>\n",
       "    </tr>\n",
       "  </thead>\n",
       "  <tbody>\n",
       "    <tr>\n",
       "      <th>0</th>\n",
       "      <td>1</td>\n",
       "      <td>1</td>\n",
       "      <td>2009-12-10</td>\n",
       "    </tr>\n",
       "    <tr>\n",
       "      <th>1</th>\n",
       "      <td>1</td>\n",
       "      <td>2</td>\n",
       "      <td>2013-02-02</td>\n",
       "    </tr>\n",
       "    <tr>\n",
       "      <th>2</th>\n",
       "      <td>1</td>\n",
       "      <td>3</td>\n",
       "      <td>2009-06-07</td>\n",
       "    </tr>\n",
       "    <tr>\n",
       "      <th>3</th>\n",
       "      <td>1</td>\n",
       "      <td>4</td>\n",
       "      <td>2010-10-24</td>\n",
       "    </tr>\n",
       "    <tr>\n",
       "      <th>4</th>\n",
       "      <td>1</td>\n",
       "      <td>5</td>\n",
       "      <td>2009-11-07</td>\n",
       "    </tr>\n",
       "    <tr>\n",
       "      <th>...</th>\n",
       "      <td>...</td>\n",
       "      <td>...</td>\n",
       "      <td>...</td>\n",
       "    </tr>\n",
       "    <tr>\n",
       "      <th>8710</th>\n",
       "      <td>17</td>\n",
       "      <td>2094</td>\n",
       "      <td>2013-02-07</td>\n",
       "    </tr>\n",
       "    <tr>\n",
       "      <th>8711</th>\n",
       "      <td>17</td>\n",
       "      <td>2095</td>\n",
       "      <td>2012-12-15</td>\n",
       "    </tr>\n",
       "    <tr>\n",
       "      <th>8712</th>\n",
       "      <td>17</td>\n",
       "      <td>2096</td>\n",
       "      <td>2010-04-21</td>\n",
       "    </tr>\n",
       "    <tr>\n",
       "      <th>8713</th>\n",
       "      <td>17</td>\n",
       "      <td>3290</td>\n",
       "      <td>2009-02-02</td>\n",
       "    </tr>\n",
       "    <tr>\n",
       "      <th>8714</th>\n",
       "      <td>18</td>\n",
       "      <td>597</td>\n",
       "      <td>2012-12-02</td>\n",
       "    </tr>\n",
       "  </tbody>\n",
       "</table>\n",
       "<p>8715 rows × 3 columns</p>\n",
       "</div>"
      ],
      "text/plain": [
       "      PlaylistId  TrackId  AddingDate\n",
       "0              1        1  2009-12-10\n",
       "1              1        2  2013-02-02\n",
       "2              1        3  2009-06-07\n",
       "3              1        4  2010-10-24\n",
       "4              1        5  2009-11-07\n",
       "...          ...      ...         ...\n",
       "8710          17     2094  2013-02-07\n",
       "8711          17     2095  2012-12-15\n",
       "8712          17     2096  2010-04-21\n",
       "8713          17     3290  2009-02-02\n",
       "8714          18      597  2012-12-02\n",
       "\n",
       "[8715 rows x 3 columns]"
      ]
     },
     "execution_count": 82,
     "metadata": {},
     "output_type": "execute_result"
    }
   ],
   "source": [
    "df_pt"
   ]
  },
  {
   "cell_type": "code",
   "execution_count": 83,
   "id": "db90a021-93c8-42ea-957c-c38b2d1227f5",
   "metadata": {},
   "outputs": [],
   "source": [
    "df_pt.to_csv(\"db2_pt.csv\", index=False)\n",
    "cursor.close()\n",
    "conn.close()"
   ]
  },
  {
   "cell_type": "code",
   "execution_count": 84,
   "id": "024abd58-19ee-4907-b123-69530a0a3672",
   "metadata": {},
   "outputs": [
    {
     "data": {
      "text/plain": [
       "<mysql.connector.connection.MySQLConnection at 0x16c39e920>"
      ]
     },
     "execution_count": 84,
     "metadata": {},
     "output_type": "execute_result"
    }
   ],
   "source": [
    "## Connect to db2\n",
    "conn = make_connection(config_file = 'config_sjsu_daydayup_db2.ini')\n",
    "cursor = conn.cursor()\n",
    "conn"
   ]
  },
  {
   "cell_type": "code",
   "execution_count": 85,
   "id": "57d6dc77-26e6-4dcc-a02c-a8809bdcf8ff",
   "metadata": {},
   "outputs": [],
   "source": [
    "## Create the table\n",
    "sql = '''\n",
    "CREATE TABLE `PlaylistTrack`\n",
    "(\n",
    "    `PlaylistId` INT NOT NULL DEFAULT 0,\n",
    "    `TrackId` INT DEFAULT 0,\n",
    "    `AddingDate` DATE DEFAULT '1900-01-01',\n",
    "    CONSTRAINT `PK_PlaylistTrack` PRIMARY KEY  (`PlaylistId`, `TrackId`)\n",
    ");\n",
    "\n",
    "'''\n",
    "cursor.execute(sql)"
   ]
  },
  {
   "cell_type": "code",
   "execution_count": 86,
   "id": "6cce007b-f4c7-4199-8f5b-3b26c7d6aaf9",
   "metadata": {},
   "outputs": [],
   "source": [
    "## Populate the table\n",
    "\n",
    "sql = ( \"INSERT INTO PlaylistTrack \\n\"\n",
    "        + \"VALUES (%s, %s, %s)\"\n",
    "        )\n",
    "\n",
    "\n",
    "first = True ## Skip the first row\n",
    "\n",
    "with open('db2_pt.csv', newline='') as csv_file:\n",
    "    data = csv.reader(csv_file, delimiter=',', quotechar='\"')\n",
    "    \n",
    "    for row in data:\n",
    "        if not first:\n",
    "            #transform(row)\n",
    "            cursor.execute(sql, row)\n",
    "            \n",
    "        first = False\n",
    "    \n",
    "conn.commit()\n",
    "cursor.close()\n",
    "conn.close()"
   ]
  },
  {
   "cell_type": "markdown",
   "id": "abc6a8b2-37fc-461a-a3cc-0c2e54b736e2",
   "metadata": {},
   "source": [
    "# 11 Table Track"
   ]
  },
  {
   "cell_type": "code",
   "execution_count": 87,
   "id": "baa7a82e-6bf1-4303-8a4b-4a0e68630c1d",
   "metadata": {},
   "outputs": [
    {
     "data": {
      "text/plain": [
       "<mysql.connector.connection.MySQLConnection at 0x16c39f3d0>"
      ]
     },
     "execution_count": 87,
     "metadata": {},
     "output_type": "execute_result"
    }
   ],
   "source": [
    "conn = make_connection(config_file = 'config_sjsu_daydayup_db.ini')\n",
    "cursor = conn.cursor()\n",
    "conn"
   ]
  },
  {
   "cell_type": "code",
   "execution_count": 88,
   "id": "28a5fafa-5e72-443c-9659-c3962f32b934",
   "metadata": {},
   "outputs": [
    {
     "data": {
      "text/html": [
       "<div>\n",
       "<style scoped>\n",
       "    .dataframe tbody tr th:only-of-type {\n",
       "        vertical-align: middle;\n",
       "    }\n",
       "\n",
       "    .dataframe tbody tr th {\n",
       "        vertical-align: top;\n",
       "    }\n",
       "\n",
       "    .dataframe thead th {\n",
       "        text-align: right;\n",
       "    }\n",
       "</style>\n",
       "<table border=\"1\" class=\"dataframe\">\n",
       "  <thead>\n",
       "    <tr style=\"text-align: right;\">\n",
       "      <th></th>\n",
       "      <th>TrackId</th>\n",
       "      <th>Name</th>\n",
       "      <th>AlbumId</th>\n",
       "      <th>MediaTypeId</th>\n",
       "      <th>GenreId</th>\n",
       "      <th>Composer</th>\n",
       "      <th>Milliseconds</th>\n",
       "      <th>Bytes</th>\n",
       "      <th>UnitPrice</th>\n",
       "    </tr>\n",
       "  </thead>\n",
       "  <tbody>\n",
       "    <tr>\n",
       "      <th>0</th>\n",
       "      <td>1</td>\n",
       "      <td>For Those About To Rock (We Salute You)</td>\n",
       "      <td>1</td>\n",
       "      <td>1</td>\n",
       "      <td>1</td>\n",
       "      <td>Angus Young, Malcolm Young, Brian Johnson</td>\n",
       "      <td>343719</td>\n",
       "      <td>11170334</td>\n",
       "      <td>0.99</td>\n",
       "    </tr>\n",
       "    <tr>\n",
       "      <th>1</th>\n",
       "      <td>2</td>\n",
       "      <td>Balls to the Wall</td>\n",
       "      <td>2</td>\n",
       "      <td>2</td>\n",
       "      <td>1</td>\n",
       "      <td>None</td>\n",
       "      <td>342562</td>\n",
       "      <td>5510424</td>\n",
       "      <td>0.99</td>\n",
       "    </tr>\n",
       "    <tr>\n",
       "      <th>2</th>\n",
       "      <td>3</td>\n",
       "      <td>Fast As a Shark</td>\n",
       "      <td>3</td>\n",
       "      <td>2</td>\n",
       "      <td>1</td>\n",
       "      <td>F. Baltes, S. Kaufman, U. Dirkscneider &amp; W. Ho...</td>\n",
       "      <td>230619</td>\n",
       "      <td>3990994</td>\n",
       "      <td>0.99</td>\n",
       "    </tr>\n",
       "    <tr>\n",
       "      <th>3</th>\n",
       "      <td>4</td>\n",
       "      <td>Restless and Wild</td>\n",
       "      <td>3</td>\n",
       "      <td>2</td>\n",
       "      <td>1</td>\n",
       "      <td>F. Baltes, R.A. Smith-Diesel, S. Kaufman, U. D...</td>\n",
       "      <td>252051</td>\n",
       "      <td>4331779</td>\n",
       "      <td>0.99</td>\n",
       "    </tr>\n",
       "    <tr>\n",
       "      <th>4</th>\n",
       "      <td>5</td>\n",
       "      <td>Princess of the Dawn</td>\n",
       "      <td>3</td>\n",
       "      <td>2</td>\n",
       "      <td>1</td>\n",
       "      <td>Deaffy &amp; R.A. Smith-Diesel</td>\n",
       "      <td>375418</td>\n",
       "      <td>6290521</td>\n",
       "      <td>0.99</td>\n",
       "    </tr>\n",
       "    <tr>\n",
       "      <th>...</th>\n",
       "      <td>...</td>\n",
       "      <td>...</td>\n",
       "      <td>...</td>\n",
       "      <td>...</td>\n",
       "      <td>...</td>\n",
       "      <td>...</td>\n",
       "      <td>...</td>\n",
       "      <td>...</td>\n",
       "      <td>...</td>\n",
       "    </tr>\n",
       "    <tr>\n",
       "      <th>3498</th>\n",
       "      <td>3499</td>\n",
       "      <td>Pini Di Roma (Pinien Von Rom)  I Pini Della Vi...</td>\n",
       "      <td>343</td>\n",
       "      <td>2</td>\n",
       "      <td>24</td>\n",
       "      <td>None</td>\n",
       "      <td>286741</td>\n",
       "      <td>4718950</td>\n",
       "      <td>0.99</td>\n",
       "    </tr>\n",
       "    <tr>\n",
       "      <th>3499</th>\n",
       "      <td>3500</td>\n",
       "      <td>String Quartet No. 12 in C Minor, D. 703 \"Quar...</td>\n",
       "      <td>344</td>\n",
       "      <td>2</td>\n",
       "      <td>24</td>\n",
       "      <td>Franz Schubert</td>\n",
       "      <td>139200</td>\n",
       "      <td>2283131</td>\n",
       "      <td>0.99</td>\n",
       "    </tr>\n",
       "    <tr>\n",
       "      <th>3500</th>\n",
       "      <td>3501</td>\n",
       "      <td>L'orfeo, Act 3, Sinfonia (Orchestra)</td>\n",
       "      <td>345</td>\n",
       "      <td>2</td>\n",
       "      <td>24</td>\n",
       "      <td>Claudio Monteverdi</td>\n",
       "      <td>66639</td>\n",
       "      <td>1189062</td>\n",
       "      <td>0.99</td>\n",
       "    </tr>\n",
       "    <tr>\n",
       "      <th>3501</th>\n",
       "      <td>3502</td>\n",
       "      <td>Quintet for Horn, Violin, 2 Violas, and Cello ...</td>\n",
       "      <td>346</td>\n",
       "      <td>2</td>\n",
       "      <td>24</td>\n",
       "      <td>Wolfgang Amadeus Mozart</td>\n",
       "      <td>221331</td>\n",
       "      <td>3665114</td>\n",
       "      <td>0.99</td>\n",
       "    </tr>\n",
       "    <tr>\n",
       "      <th>3502</th>\n",
       "      <td>3503</td>\n",
       "      <td>Koyaanisqatsi</td>\n",
       "      <td>347</td>\n",
       "      <td>2</td>\n",
       "      <td>10</td>\n",
       "      <td>Philip Glass</td>\n",
       "      <td>206005</td>\n",
       "      <td>3305164</td>\n",
       "      <td>0.99</td>\n",
       "    </tr>\n",
       "  </tbody>\n",
       "</table>\n",
       "<p>3503 rows × 9 columns</p>\n",
       "</div>"
      ],
      "text/plain": [
       "      TrackId                                               Name  AlbumId  \\\n",
       "0           1            For Those About To Rock (We Salute You)        1   \n",
       "1           2                                  Balls to the Wall        2   \n",
       "2           3                                    Fast As a Shark        3   \n",
       "3           4                                  Restless and Wild        3   \n",
       "4           5                               Princess of the Dawn        3   \n",
       "...       ...                                                ...      ...   \n",
       "3498     3499  Pini Di Roma (Pinien Von Rom)  I Pini Della Vi...      343   \n",
       "3499     3500  String Quartet No. 12 in C Minor, D. 703 \"Quar...      344   \n",
       "3500     3501               L'orfeo, Act 3, Sinfonia (Orchestra)      345   \n",
       "3501     3502  Quintet for Horn, Violin, 2 Violas, and Cello ...      346   \n",
       "3502     3503                                      Koyaanisqatsi      347   \n",
       "\n",
       "      MediaTypeId  GenreId                                           Composer  \\\n",
       "0               1        1          Angus Young, Malcolm Young, Brian Johnson   \n",
       "1               2        1                                               None   \n",
       "2               2        1  F. Baltes, S. Kaufman, U. Dirkscneider & W. Ho...   \n",
       "3               2        1  F. Baltes, R.A. Smith-Diesel, S. Kaufman, U. D...   \n",
       "4               2        1                         Deaffy & R.A. Smith-Diesel   \n",
       "...           ...      ...                                                ...   \n",
       "3498            2       24                                               None   \n",
       "3499            2       24                                     Franz Schubert   \n",
       "3500            2       24                                 Claudio Monteverdi   \n",
       "3501            2       24                            Wolfgang Amadeus Mozart   \n",
       "3502            2       10                                       Philip Glass   \n",
       "\n",
       "      Milliseconds     Bytes  UnitPrice  \n",
       "0           343719  11170334       0.99  \n",
       "1           342562   5510424       0.99  \n",
       "2           230619   3990994       0.99  \n",
       "3           252051   4331779       0.99  \n",
       "4           375418   6290521       0.99  \n",
       "...            ...       ...        ...  \n",
       "3498        286741   4718950       0.99  \n",
       "3499        139200   2283131       0.99  \n",
       "3500         66639   1189062       0.99  \n",
       "3501        221331   3665114       0.99  \n",
       "3502        206005   3305164       0.99  \n",
       "\n",
       "[3503 rows x 9 columns]"
      ]
     },
     "execution_count": 88,
     "metadata": {},
     "output_type": "execute_result"
    }
   ],
   "source": [
    "df_tk = pd.read_sql(\"select * from Track\", conn)\n",
    "df_tk"
   ]
  },
  {
   "cell_type": "code",
   "execution_count": 89,
   "id": "37b5f68f-7dc6-49b6-a587-24c63788854a",
   "metadata": {},
   "outputs": [
    {
     "data": {
      "text/plain": [
       "TrackId           0\n",
       "Name              0\n",
       "AlbumId           0\n",
       "MediaTypeId       0\n",
       "GenreId           0\n",
       "Composer        978\n",
       "Milliseconds      0\n",
       "Bytes             0\n",
       "UnitPrice         0\n",
       "dtype: int64"
      ]
     },
     "execution_count": 89,
     "metadata": {},
     "output_type": "execute_result"
    }
   ],
   "source": [
    "df_tk.isnull().sum()"
   ]
  },
  {
   "cell_type": "code",
   "execution_count": 90,
   "id": "348c4671-b109-4835-b519-1d9a35be6c79",
   "metadata": {},
   "outputs": [],
   "source": [
    "df_tk.fillna(value='unknown', inplace=True)"
   ]
  },
  {
   "cell_type": "code",
   "execution_count": 91,
   "id": "866a1127-6c9b-4f08-9c30-6e22c6817fee",
   "metadata": {},
   "outputs": [],
   "source": [
    "df_tk.to_csv(\"db2_tk.csv\", index=False)\n",
    "cursor.close()\n",
    "conn.close()"
   ]
  },
  {
   "cell_type": "code",
   "execution_count": 92,
   "id": "b10b0021-00b6-41c6-9635-28b16eac8c22",
   "metadata": {},
   "outputs": [
    {
     "data": {
      "text/plain": [
       "<mysql.connector.connection.MySQLConnection at 0x16c39f0d0>"
      ]
     },
     "execution_count": 92,
     "metadata": {},
     "output_type": "execute_result"
    }
   ],
   "source": [
    "## Connect to db2\n",
    "conn = make_connection(config_file = 'config_sjsu_daydayup_db2.ini')\n",
    "cursor = conn.cursor()\n",
    "conn"
   ]
  },
  {
   "cell_type": "code",
   "execution_count": 93,
   "id": "4cb2cd61-4232-4b4d-8f74-93291bf70246",
   "metadata": {},
   "outputs": [],
   "source": [
    "## Create the table\n",
    "sql = '''\n",
    "CREATE TABLE `Track`\n",
    "(\n",
    "    `TrackId` INT NOT NULL DEFAULT 0,\n",
    "    `Name` NVARCHAR(200) DEFAULT 'None',\n",
    "    `AlbumId` INT DEFAULT 0,\n",
    "    `MediaTypeId` INT DEFAULT 0,\n",
    "    `GenreId` INT DEFAULT 0,\n",
    "    `Composer` NVARCHAR(220) DEFAULT 'None',\n",
    "    `Milliseconds` INT DEFAULT 0,\n",
    "    `Bytes` INT DEFAULT 0,\n",
    "    `UnitPrice` NUMERIC(10,2) DEFAULT 0.0,\n",
    "     PRIMARY KEY  (`TrackId`)\n",
    ");\n",
    "'''\n",
    "cursor.execute(sql)"
   ]
  },
  {
   "cell_type": "code",
   "execution_count": 94,
   "id": "ceade7af-f287-4cdf-8f8d-7d2e50ed65f4",
   "metadata": {},
   "outputs": [],
   "source": [
    "## Populate the table\n",
    "\n",
    "sql = ( \"INSERT INTO Track \\n\"\n",
    "        + \"VALUES (%s, %s, %s, %s, %s,  %s, %s, %s, %s)\"\n",
    "        )\n",
    "\n",
    "\n",
    "first = True ## Skip the first row\n",
    "\n",
    "with open('db2_tk.csv', newline='') as csv_file:\n",
    "    data = csv.reader(csv_file, delimiter=',', quotechar='\"')\n",
    "    \n",
    "    for row in data:\n",
    "        if not first:\n",
    "            #transform(row)\n",
    "            cursor.execute(sql, row)\n",
    "            \n",
    "        first = False\n",
    "    \n",
    "conn.commit()\n",
    "cursor.close()\n",
    "conn.close()"
   ]
  },
  {
   "cell_type": "markdown",
   "id": "6c5ac7c1-1665-4796-a0fe-330211b37617",
   "metadata": {},
   "source": [
    "# 12 Set up foreign keys"
   ]
  },
  {
   "cell_type": "code",
   "execution_count": 95,
   "id": "5650eb44-6131-4f03-a469-da221b4fdb31",
   "metadata": {},
   "outputs": [
    {
     "data": {
      "text/plain": [
       "<mysql.connector.connection.MySQLConnection at 0x16c662380>"
      ]
     },
     "execution_count": 95,
     "metadata": {},
     "output_type": "execute_result"
    }
   ],
   "source": [
    "## Connect to db2\n",
    "conn = make_connection(config_file = 'config_sjsu_daydayup_db2.ini')\n",
    "cursor = conn.cursor()\n",
    "conn"
   ]
  },
  {
   "cell_type": "code",
   "execution_count": 96,
   "id": "f5a562da-76ac-4925-84f3-f0e2f5d2341a",
   "metadata": {},
   "outputs": [],
   "source": [
    "## Album\n",
    "cursor.execute(\"ALTER TABLE `Album` ADD CONSTRAINT `FK_AlbumArtistId`FOREIGN KEY (`ArtistId`) REFERENCES `Artist` (`ArtistId`)\")\n",
    "\n"
   ]
  },
  {
   "cell_type": "code",
   "execution_count": 97,
   "id": "f4ea8bec-1da1-4d15-9ae4-8d9c9fcb4799",
   "metadata": {},
   "outputs": [],
   "source": [
    "## Customer\n",
    "cursor.execute(\"ALTER TABLE `Customer` ADD CONSTRAINT `FK_CustomerSupportRepId`FOREIGN KEY (`SupportRepId`) REFERENCES `Employee` (`EmployeeId`)\")\n",
    "\n"
   ]
  },
  {
   "cell_type": "code",
   "execution_count": 98,
   "id": "44519076-d0db-4099-9208-336eec28bf77",
   "metadata": {},
   "outputs": [],
   "source": [
    "## Employee\n",
    "cursor.execute(\"ALTER TABLE `Employee` ADD CONSTRAINT `FK_EmployeeReportsTo` FOREIGN KEY (`ReportsTo`) REFERENCES `Employee` (`EmployeeId`)\")\n",
    "\n"
   ]
  },
  {
   "cell_type": "code",
   "execution_count": 99,
   "id": "938579d3-bc61-4a52-9ef6-4fd3d69deeae",
   "metadata": {},
   "outputs": [],
   "source": [
    "## Invoice\n",
    "cursor.execute(\"ALTER TABLE `Invoice` ADD CONSTRAINT `FK_InvoiceCustomerId` FOREIGN KEY (`CustomerId`) REFERENCES `Customer` (`CustomerId`)\")\n",
    "\n"
   ]
  },
  {
   "cell_type": "code",
   "execution_count": 100,
   "id": "57d23332-6578-48a8-bca3-8decc40bec51",
   "metadata": {},
   "outputs": [],
   "source": [
    "## Invoice Line\n",
    "cursor.execute(\"ALTER TABLE `InvoiceLine` ADD CONSTRAINT `FK_InvoiceLineInvoiceId` FOREIGN KEY (`InvoiceId`) REFERENCES `Invoice` (`InvoiceId`)\")\n",
    "cursor.execute(\"ALTER TABLE `InvoiceLine` ADD CONSTRAINT `FK_InvoiceLineTrackId` FOREIGN KEY (`TrackId`) REFERENCES `Track` (`TrackId`)\")"
   ]
  },
  {
   "cell_type": "code",
   "execution_count": 101,
   "id": "10b6dee9-ebd4-4aa2-919c-4ec239e0c3a7",
   "metadata": {},
   "outputs": [],
   "source": [
    "## Playlist Track \n",
    "cursor.execute(\"ALTER TABLE `PlaylistTrack` ADD CONSTRAINT `FK_PlaylistTrackPlaylistId` FOREIGN KEY (`PlaylistId`) REFERENCES `Playlist` (`PlaylistId`)\")\n",
    "cursor.execute(\"ALTER TABLE `PlaylistTrack` ADD CONSTRAINT `FK_PlaylistTrackTrackId` FOREIGN KEY (`TrackId`) REFERENCES `Track` (`TrackId`)\")\n"
   ]
  },
  {
   "cell_type": "code",
   "execution_count": 102,
   "id": "5fd9739f-bf08-4f42-8a08-2651004735d2",
   "metadata": {},
   "outputs": [],
   "source": [
    "## Track\n",
    "cursor.execute(\"ALTER TABLE `Track` ADD CONSTRAINT `FK_TrackAlbumId` FOREIGN KEY (`AlbumId`) REFERENCES `Album` (`AlbumId`)\")\n",
    "cursor.execute(\"ALTER TABLE `Track` ADD CONSTRAINT `FK_TrackGenreId` FOREIGN KEY (`GenreId`) REFERENCES `Genre` (`GenreId`)\")\n",
    "cursor.execute(\"ALTER TABLE `Track` ADD CONSTRAINT `FK_TrackMediaTypeId` FOREIGN KEY (`MediaTypeId`) REFERENCES `MediaType` (`MediaTypeId`)\")\n"
   ]
  },
  {
   "cell_type": "code",
   "execution_count": 103,
   "id": "cb8249ed-a63f-4584-851f-625273354f5a",
   "metadata": {},
   "outputs": [],
   "source": [
    "cursor.close()\n",
    "conn.close()"
   ]
  },
  {
   "cell_type": "markdown",
   "id": "20813a3e-4ef6-4369-9025-84b05db6a429",
   "metadata": {},
   "source": [
    "## (END)"
   ]
  }
 ],
 "metadata": {
  "kernelspec": {
   "display_name": "Python 3 (ipykernel)",
   "language": "python",
   "name": "python3"
  },
  "language_info": {
   "codemirror_mode": {
    "name": "ipython",
    "version": 3
   },
   "file_extension": ".py",
   "mimetype": "text/x-python",
   "name": "python",
   "nbconvert_exporter": "python",
   "pygments_lexer": "ipython3",
   "version": "3.10.6"
  }
 },
 "nbformat": 4,
 "nbformat_minor": 5
}
